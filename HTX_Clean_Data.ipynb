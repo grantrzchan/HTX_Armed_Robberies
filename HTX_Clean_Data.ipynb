{
 "cells": [
  {
   "cell_type": "code",
   "execution_count": 1,
   "metadata": {},
   "outputs": [],
   "source": [
    "'''this notebook is used to clean and aggregate the Houston Crime Statistics data set from 2009-2020 YTD'''\n",
    "import os\n",
    "import calendar\n",
    "import pandas as pd\n",
    "import warnings"
   ]
  },
  {
   "cell_type": "code",
   "execution_count": 2,
   "metadata": {},
   "outputs": [],
   "source": [
    "#rename all 2018 monthly data to the standard filename of mmmYY\n",
    "result = os.walk('.\\\\temp')\n",
    "file_names = tuple(result)[0][2]\n",
    "for item in file_names:\n",
    "    if item.find('NIBRS_Public_Data') != -1:\n",
    "        os.rename(r'.\\\\temp\\\\' + item , r'.\\\\temp\\\\' + calendar.month_name[int(item[0:2])].lower()[0:3] + '18.xlsx' )"
   ]
  },
  {
   "cell_type": "code",
   "execution_count": 3,
   "metadata": {},
   "outputs": [],
   "source": [
    "#use os walk to update the list of file names, after the 2018 monthly data has been renamed\n",
    "result = os.walk('.\\\\temp')\n",
    "file_names = tuple(result)[0][2]\n",
    "#the file names we don't want are more than 15 characters in length\n",
    "file_names = [x for x in file_names if len(x) <= 15]\n",
    "#create a dictionary to map mmm month names to numeric strings:\n",
    "mth_dict = {}\n",
    "for i in range(1,13):\n",
    "    if len(str(i)) <2:\n",
    "        mth = \"0\" + str(i)\n",
    "    else:\n",
    "        mth = str(i)\n",
    "    mth_dict[calendar.month_name[i][0:3].lower()] = mth\n",
    "    \n",
    "#create a dictionary to map file names to date, for 2009 to 2020:\n",
    "date_dict = {}\n",
    "for i in range(9, 21):\n",
    "    if len(str(i)) < 2:\n",
    "        yr = \"0\" + str(i)\n",
    "    else:\n",
    "        yr = str(i)\n",
    "    for k in mth_dict.keys():\n",
    "        date_dict[k+yr] = '20'+ yr + '-' + mth_dict[k]"
   ]
  },
  {
   "cell_type": "code",
   "execution_count": 4,
   "metadata": {
    "scrolled": true
   },
   "outputs": [
    {
     "name": "stdout",
     "output_type": "stream",
     "text": [
      "WARNING *** file size (3085901) not 512 + multiple of sector size (512)\n",
      "WARNING *** OLE2 inconsistency: SSCS size is 0 but SSAT size is non-zero\n",
      "WARNING *** file size (2845765) not 512 + multiple of sector size (512)\n",
      "WARNING *** OLE2 inconsistency: SSCS size is 0 but SSAT size is non-zero\n",
      "WARNING *** file size (3078551) not 512 + multiple of sector size (512)\n",
      "WARNING *** OLE2 inconsistency: SSCS size is 0 but SSAT size is non-zero\n",
      "WARNING *** file size (2971767) not 512 + multiple of sector size (512)\n",
      "WARNING *** OLE2 inconsistency: SSCS size is 0 but SSAT size is non-zero\n",
      "WARNING *** file size (2752234) not 512 + multiple of sector size (512)\n",
      "WARNING *** OLE2 inconsistency: SSCS size is 0 but SSAT size is non-zero\n"
     ]
    }
   ],
   "source": [
    "#create data set for 2009 to 2018\n",
    "warnings.filterwarnings('ignore')\n",
    "robberies = []\n",
    "dates = []\n",
    "#the files come in three different formats, with the type of crime listed as 'Offense Type', 'NIBRS Description' and\n",
    "#'NIBRSDescription'. Loop through all possibilities for try/except:\n",
    "def label_f1(filepath):\n",
    "    try:\n",
    "        placeholder = pd.read_excel(filepath, index_col=0, header=0)\n",
    "        placeholder['Offense Type'] = placeholder['Offense Type'].str.strip()\n",
    "        crime_count = placeholder['Offense Type'][placeholder['Offense Type'] == 'Robbery'].value_counts()\n",
    "    except:\n",
    "        return label_f2(filepath)\n",
    "    return crime_count\n",
    "\n",
    "def label_f2(filepath):\n",
    "    try:\n",
    "        placeholder = pd.read_excel(filepath, index_col=0, header=11)\n",
    "        placeholder['NIBRS Description'] = placeholder['NIBRS Description'].str.strip()\n",
    "        crime_count = placeholder['NIBRS Description'][placeholder['NIBRS Description'] == 'Robbery'].value_counts()\n",
    "    except:\n",
    "        return label_f3(filepath)\n",
    "    return crime_count\n",
    "\n",
    "def label_f3(filepath):\n",
    "    try:\n",
    "        placeholder = pd.read_excel(filepath, index_col=0, header=0)\n",
    "        placeholder['NIBRSDescription'] = placeholder['NIBRSDescription'].str.strip()\n",
    "        crime_count = placeholder['NIBRSDescription'][placeholder['NIBRSDescription'] == 'Robbery'].value_counts()\n",
    "    except:\n",
    "        print('Label does not exist.')\n",
    "        return\n",
    "    return crime_count\n",
    "\n",
    "#iterate through list of files, append the count of robberies for each month and the date\n",
    "for item in file_names:\n",
    "    crime_count = label_f1('.//temp//' + item)\n",
    "    try:\n",
    "        robberies.append(float(crime_count))\n",
    "        dates.append(date_dict[item[:item.find('.')]])\n",
    "    except:\n",
    "        print(crime_count, item)\n",
    "        continue\n",
    "\n",
    "#store output as series\n",
    "raw_data_09_18 = pd.Series(robberies, index=dates)"
   ]
  },
  {
   "cell_type": "code",
   "execution_count": 5,
   "metadata": {
    "scrolled": true
   },
   "outputs": [],
   "source": [
    "#use os walk again to find the data for 2019 and 2020\n",
    "result = os.walk('.\\\\temp')\n",
    "file_names = tuple(result)[0][2]\n",
    "file_names = [x for x in file_names if x.find('NIBRS') != -1]\n",
    "robberies = []\n",
    "dates = []\n",
    "for item in file_names:\n",
    "    placeholder = pd.read_excel('.//temp//' + item, index_col=1, header=0)\n",
    "    #remove newline from header\n",
    "    placeholder.index = [str(x)[0:7] for x in placeholder.index]\n",
    "    #remove newline from header\n",
    "    placeholder.columns = [x.replace('\\n','') for x in placeholder.columns]\n",
    "    # print(placeholder.columns)\n",
    "    grp = placeholder.groupby([placeholder.index, 'NIBRSDescription'])\n",
    "    mths = list(placeholder.index.unique())\n",
    "    for mth in mths:\n",
    "        crime_count = grp.get_group((mth,'Robbery'))['Incident'].count()\n",
    "        robberies.append(crime_count)\n",
    "        dates.append(mth)\n",
    "        \n",
    "#store output as series        \n",
    "raw_data_19_20 = pd.Series(robberies, index=dates)"
   ]
  },
  {
   "cell_type": "code",
   "execution_count": 6,
   "metadata": {
    "scrolled": false
   },
   "outputs": [],
   "source": [
    "#concatenate to form final data set\n",
    "raw_data = pd.concat([raw_data_09_18, raw_data_19_20])\n",
    "#sort index to ensure that series is chronological\n",
    "raw_data.sort_index(inplace=True)"
   ]
  },
  {
   "cell_type": "code",
   "execution_count": 7,
   "metadata": {},
   "outputs": [
    {
     "data": {
      "text/plain": [
       "2009-06     982.0\n",
       "2009-07    1081.0\n",
       "2009-08    1034.0\n",
       "2009-09    1021.0\n",
       "2009-10     930.0\n",
       "2009-11     934.0\n",
       "2009-12    1026.0\n",
       "2010-01     866.0\n",
       "2010-02     640.0\n",
       "2010-03     826.0\n",
       "2010-04     763.0\n",
       "2010-05     852.0\n",
       "2010-06     827.0\n",
       "2010-07     830.0\n",
       "2010-08     805.0\n",
       "2010-09     748.0\n",
       "2010-10     742.0\n",
       "2010-11     742.0\n",
       "2010-12     808.0\n",
       "2011-01     705.0\n",
       "dtype: float64"
      ]
     },
     "execution_count": 7,
     "metadata": {},
     "output_type": "execute_result"
    }
   ],
   "source": [
    "#preview series\n",
    "raw_data.head(20)"
   ]
  },
  {
   "cell_type": "code",
   "execution_count": 8,
   "metadata": {},
   "outputs": [
    {
     "data": {
      "text/plain": [
       "2019-02    564.0\n",
       "2019-03    660.0\n",
       "2019-04    727.0\n",
       "2019-05    864.0\n",
       "2019-06    754.0\n",
       "2019-07    837.0\n",
       "2019-08    822.0\n",
       "2019-09    713.0\n",
       "2019-10    732.0\n",
       "2019-11    863.0\n",
       "2019-12    900.0\n",
       "2020-01    911.0\n",
       "2020-02    721.0\n",
       "2020-03    683.0\n",
       "2020-04    573.0\n",
       "2020-05    691.0\n",
       "2020-06    743.0\n",
       "2020-07    732.0\n",
       "2020-08    692.0\n",
       "2020-09    689.0\n",
       "dtype: float64"
      ]
     },
     "execution_count": 8,
     "metadata": {},
     "output_type": "execute_result"
    }
   ],
   "source": [
    "raw_data.tail(20)"
   ]
  },
  {
   "cell_type": "code",
   "execution_count": 9,
   "metadata": {
    "scrolled": true
   },
   "outputs": [
    {
     "data": {
      "text/plain": [
       "<matplotlib.axes._subplots.AxesSubplot at 0x21ff1fe6130>"
      ]
     },
     "execution_count": 9,
     "metadata": {},
     "output_type": "execute_result"
    },
    {
     "data": {
      "image/png": "[encoded data removed]",
      "text/plain": [
       "<Figure size 432x288 with 1 Axes>"
      ]
     },
     "metadata": {
      "needs_background": "light"
     },
     "output_type": "display_data"
    }
   ],
   "source": [
    "#use matplotlib to preview data set\n",
    "import matplotlib as plt\n",
    "raw_data.plot()"
   ]
  },
  {
   "cell_type": "code",
   "execution_count": 10,
   "metadata": {},
   "outputs": [],
   "source": [
    "#save data as csv in data folder\n",
    "raw_data.to_csv('.//data//HTX_robberies.csv')"
   ]
  },
  {
   "cell_type": "code",
   "execution_count": null,
   "metadata": {},
   "outputs": [],
   "source": []
  }
 ],
 "metadata": {
  "kernelspec": {
   "display_name": "Python 3",
   "language": "python",
   "name": "python3"
  },
  "language_info": {
   "codemirror_mode": {
    "name": "ipython",
    "version": 3
   },
   "file_extension": ".py",
   "mimetype": "text/x-python",
   "name": "python",
   "nbconvert_exporter": "python",
   "pygments_lexer": "ipython3",
   "version": "3.8.3"
  }
 },
 "nbformat": 4,
 "nbformat_minor": 2
}
