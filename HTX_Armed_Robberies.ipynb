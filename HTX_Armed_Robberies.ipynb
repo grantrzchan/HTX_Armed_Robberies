{
 "cells": [
  {
   "cell_type": "code",
   "execution_count": 7,
   "metadata": {},
   "outputs": [
    {
     "name": "stdout",
     "output_type": "stream",
     "text": [
      "Data set: 106 months, Validation set: 12 months\n"
     ]
    }
   ],
   "source": [
    "'''monthly robberies data set'''\n",
    "import pandas as pd\n",
    "import math\n",
    "# from sklearn.metrics import mean_squared_error\n",
    "from math import sqrt\n",
    "#load data set\n",
    "data_series = pd.read_csv('./data/robberies.csv', header=0, index_col=0, parse_dates=True, squeeze=True)\n",
    "\n",
    "#split data set into model development data set and cross validation set, use last year of data as cv\n",
    "data_end = len(data_series) - 12\n",
    "data_set, cv_set = data_series[0:data_end], data_series[data_end::]\n",
    "print(f'Data set: {len(data_set)} months, Validation set: {len(cv_set)} months')\n",
    "\n",
    "#save training and cv sets to csv format\n",
    "data_set.to_csv('data_set.csv', header = False)\n",
    "cv_set.to_csv('cv_set.csv', header = False)"
   ]
  },
  {
   "cell_type": "code",
   "execution_count": 8,
   "metadata": {
    "scrolled": true
   },
   "outputs": [],
   "source": [
    "#create training set and test set\n",
    "data = pd.read_csv('data_set.csv', header=None, index_col=0, parse_dates=True, squeeze=True)\n",
    "X = data.values\n",
    "X = X.astype('float32')\n",
    "\n",
    "#start with train set of 50%\n",
    "train_size = int(0.5*len(X))\n",
    "train_set, test_set = X[0:train_size], X[train_size::]"
   ]
  },
  {
   "cell_type": "code",
   "execution_count": null,
   "metadata": {},
   "outputs": [],
   "source": []
  }
 ],
 "metadata": {
  "kernelspec": {
   "display_name": "Python 3",
   "language": "python",
   "name": "python3"
  },
  "language_info": {
   "codemirror_mode": {
    "name": "ipython",
    "version": 3
   },
   "file_extension": ".py",
   "mimetype": "text/x-python",
   "name": "python",
   "nbconvert_exporter": "python",
   "pygments_lexer": "ipython3",
   "version": "3.7.4"
  }
 },
 "nbformat": 4,
 "nbformat_minor": 4
}
