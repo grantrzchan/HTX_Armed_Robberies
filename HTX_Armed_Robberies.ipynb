{
 "cells": [
  {
   "cell_type": "markdown",
   "metadata": {
    "colab_type": "text",
    "id": "view-in-github"
   },
   "source": [
    "<a href=\"https://colab.research.google.com/github/grantrzchan/HTX_Armed_Robberies/blob/master/HTX_Armed_Robberies.ipynb\" target=\"_parent\"><img src=\"https://colab.research.google.com/assets/colab-badge.svg\" alt=\"Open In Colab\"/></a>"
   ]
  },
  {
   "cell_type": "code",
   "execution_count": 1,
   "metadata": {
    "colab": {
     "base_uri": "https://localhost:8080/",
     "height": 74,
     "resources": {
      "http://localhost:8080/nbextensions/google.colab/files.js": {
       "data": "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",
       "headers": [
        [
         "content-type",
         "application/javascript"
        ]
       ],
       "ok": true,
       "status": 200,
       "status_text": ""
      }
     }
    },
    "colab_type": "code",
    "id": "FJqDBJuwV3Rw",
    "outputId": "59efbe2b-b3ca-4cdc-e717-1ebaa870aea6",
    "scrolled": true
   },
   "outputs": [],
   "source": [
    "'''monthly robberies data set'''\n",
    "import pandas as pd\n",
    "import numpy as np\n",
    "import math\n",
    "from sklearn.metrics import mean_squared_error as mse\n",
    "from math import sqrt\n",
    "from matplotlib import pyplot as plt\n",
    "\n",
    "#load data set\n",
    "data_series = pd.read_csv('./data/robberies.csv', header=0, index_col=0, parse_dates=True, squeeze=True)"
   ]
  },
  {
   "cell_type": "code",
   "execution_count": 2,
   "metadata": {
    "colab": {
     "base_uri": "https://localhost:8080/",
     "height": 34
    },
    "colab_type": "code",
    "id": "dsLnc7zJVgA_",
    "outputId": "0e4302b4-4cc6-4f3e-f8c2-4e82eb371eef"
   },
   "outputs": [
    {
     "name": "stdout",
     "output_type": "stream",
     "text": [
      "Data set: 106 months, Validation set: 12 months\n"
     ]
    }
   ],
   "source": [
    "#split data set into model development data set and cross validation set, use last year of data as cv\n",
    "data_end = len(data_series) - 12\n",
    "data_set, cv_set = data_series[0:data_end], data_series[data_end::]\n",
    "print(f'Data set: {len(data_set)} months, Validation set: {len(cv_set)} months')\n",
    "\n",
    "#save training and cv sets to csv format\n",
    "data_set.to_csv('data_set.csv', header = False)\n",
    "cv_set.to_csv('cv_set.csv', header = False)"
   ]
  },
  {
   "cell_type": "code",
   "execution_count": 3,
   "metadata": {
    "colab": {},
    "colab_type": "code",
    "id": "JgdgBr8dVgBF",
    "scrolled": true
   },
   "outputs": [],
   "source": [
    "#create training set and test set\n",
    "X = data_set.values\n",
    "X = X.astype('float32')\n",
    "\n",
    "#start with train set of 50%\n",
    "train_size = int(0.5*len(X))\n",
    "train_set, test_set = X[0:train_size], X[train_size::]"
   ]
  },
  {
   "cell_type": "code",
   "execution_count": 4,
   "metadata": {
    "colab": {
     "base_uri": "https://localhost:8080/",
     "height": 924
    },
    "colab_type": "code",
    "id": "GHZTnpgxVgBK",
    "outputId": "d877d898-a7ff-4009-e31f-07c6ccfb7a4b"
   },
   "outputs": [
    {
     "name": "stdout",
     "output_type": "stream",
     "text": [
      "Predicted:  98.000, Expected:  125.000\n",
      "Predicted:  125.000, Expected:  155.000\n",
      "Predicted:  155.000, Expected:  190.000\n",
      "Predicted:  190.000, Expected:  236.000\n",
      "Predicted:  236.000, Expected:  189.000\n",
      "Predicted:  189.000, Expected:  174.000\n",
      "Predicted:  174.000, Expected:  178.000\n",
      "Predicted:  178.000, Expected:  136.000\n",
      "Predicted:  136.000, Expected:  161.000\n",
      "Predicted:  161.000, Expected:  171.000\n",
      "Predicted:  171.000, Expected:  149.000\n",
      "Predicted:  149.000, Expected:  184.000\n",
      "Predicted:  184.000, Expected:  155.000\n",
      "Predicted:  155.000, Expected:  276.000\n",
      "Predicted:  276.000, Expected:  224.000\n",
      "Predicted:  224.000, Expected:  213.000\n",
      "Predicted:  213.000, Expected:  279.000\n",
      "Predicted:  279.000, Expected:  268.000\n",
      "Predicted:  268.000, Expected:  287.000\n",
      "Predicted:  287.000, Expected:  238.000\n",
      "Predicted:  238.000, Expected:  213.000\n",
      "Predicted:  213.000, Expected:  257.000\n",
      "Predicted:  257.000, Expected:  293.000\n",
      "Predicted:  293.000, Expected:  212.000\n",
      "Predicted:  212.000, Expected:  246.000\n",
      "Predicted:  246.000, Expected:  353.000\n",
      "Predicted:  353.000, Expected:  339.000\n",
      "Predicted:  339.000, Expected:  308.000\n",
      "Predicted:  308.000, Expected:  247.000\n",
      "Predicted:  247.000, Expected:  257.000\n",
      "Predicted:  257.000, Expected:  322.000\n",
      "Predicted:  322.000, Expected:  298.000\n",
      "Predicted:  298.000, Expected:  273.000\n",
      "Predicted:  273.000, Expected:  312.000\n",
      "Predicted:  312.000, Expected:  249.000\n",
      "Predicted:  249.000, Expected:  286.000\n",
      "Predicted:  286.000, Expected:  279.000\n",
      "Predicted:  279.000, Expected:  309.000\n",
      "Predicted:  309.000, Expected:  401.000\n",
      "Predicted:  401.000, Expected:  309.000\n",
      "Predicted:  309.000, Expected:  328.000\n",
      "Predicted:  328.000, Expected:  353.000\n",
      "Predicted:  353.000, Expected:  354.000\n",
      "Predicted:  354.000, Expected:  327.000\n",
      "Predicted:  327.000, Expected:  324.000\n",
      "Predicted:  324.000, Expected:  285.000\n",
      "Predicted:  285.000, Expected:  243.000\n",
      "Predicted:  243.000, Expected:  241.000\n",
      "Predicted:  241.000, Expected:  287.000\n",
      "Predicted:  287.000, Expected:  355.000\n",
      "Predicted:  355.000, Expected:  460.000\n",
      "Predicted:  460.000, Expected:  364.000\n",
      "Predicted:  364.000, Expected:  487.000\n",
      "RMSE:  51.844\n"
     ]
    }
   ],
   "source": [
    "#use walk forward validation to create baseline prediction forecast using the persistence model\n",
    "#create foreacst history\n",
    "historic_obs = [x for x in train_set]\n",
    "#create baseline predictions\n",
    "predictions = []\n",
    "for i in range(len(test_set)):\n",
    "    #make prediction at t using observation at t-1\n",
    "    y_hat = historic_obs[-1]\n",
    "    predictions.append(y_hat)\n",
    "    #actual t observation from test set\n",
    "    observation = test_set[i]\n",
    "    #update historic observations with actual t observation\n",
    "    historic_obs.append(observation)\n",
    "    print(f'Predicted: {y_hat: .3f}, Expected: {observation: .3f}')\n",
    "#report the performance of the forecast using RMSE\n",
    "rmse = sqrt(mse(test_set, predictions))\n",
    "print(f'RMSE: {rmse: .3f}')"
   ]
  },
  {
   "cell_type": "code",
   "execution_count": 5,
   "metadata": {
    "colab": {
     "base_uri": "https://localhost:8080/",
     "height": 168
    },
    "colab_type": "code",
    "id": "Bv_78EUNVgBS",
    "outputId": "7e2fb726-0503-447c-a54f-99f2c1bf01d1"
   },
   "outputs": [
    {
     "name": "stdout",
     "output_type": "stream",
     "text": [
      "count    106.000000\n",
      "mean     173.103774\n",
      "std      112.231133\n",
      "min       29.000000\n",
      "25%       74.750000\n",
      "50%      144.500000\n",
      "75%      271.750000\n",
      "max      487.000000\n",
      "Name: Robberies, dtype: float64\n"
     ]
    }
   ],
   "source": [
    "# show summary statistics of data_set time series\n",
    "print(data_set.describe())"
   ]
  },
  {
   "cell_type": "code",
   "execution_count": 6,
   "metadata": {
    "colab": {
     "base_uri": "https://localhost:8080/",
     "height": 279
    },
    "colab_type": "code",
    "id": "ymV1hpMuVgBX",
    "outputId": "2c6610d9-b5be-4367-d76e-781bc17c47b9"
   },
   "outputs": [
    {
     "data": {
      "image/png": "[encoded data removed]",
      "text/plain": [
       "<Figure size 432x288 with 1 Axes>"
      ]
     },
     "metadata": {
      "needs_background": "light"
     },
     "output_type": "display_data"
    }
   ],
   "source": [
    "#plot the data\n",
    "data_set.plot()\n",
    "plt.show()"
   ]
  },
  {
   "cell_type": "markdown",
   "metadata": {
    "colab_type": "text",
    "id": "SPYjbx1kVgBa"
   },
   "source": [
    "### Line plot observations\n",
    "- There is a trend of increasing robberies\n",
    "- There is high variability among data points, which corresponds to the wide spread between the quartile ranges observed above\n",
    "- The variance between data points seem to increase over time, as observed from the widening ampitude of the fluctuations in the data\n",
    "- The data set is non-stationary"
   ]
  },
  {
   "cell_type": "code",
   "execution_count": 7,
   "metadata": {
    "colab": {
     "base_uri": "https://localhost:8080/",
     "height": 265
    },
    "colab_type": "code",
    "id": "pcdZmBf-VgBb",
    "outputId": "a5452810-ccd7-45f8-cd0e-d54ee2324d4b"
   },
   "outputs": [
    {
     "data": {
      "image/png": "[encoded data removed]",
      "text/plain": [
       "<Figure size 432x288 with 2 Axes>"
      ]
     },
     "metadata": {
      "needs_background": "light"
     },
     "output_type": "display_data"
    }
   ],
   "source": [
    "#plot histogram and denisty plot\n",
    "plt.figure(1)\n",
    "plt.subplot(211)\n",
    "data_set.hist()\n",
    "plt.subplot(212)\n",
    "data_set.plot(kind='kde')\n",
    "plt.show()"
   ]
  },
  {
   "cell_type": "markdown",
   "metadata": {
    "colab_type": "text",
    "id": "3Z5zZtuVVgBg"
   },
   "source": [
    "### Histogram and Density plot observations\n",
    "- The data distribution is not gaussian\n",
    "- The data seem to be quadratic or exponential, due to the left shift and the short right tail\n"
   ]
  },
  {
   "cell_type": "code",
   "execution_count": 8,
   "metadata": {
    "colab": {
     "base_uri": "https://localhost:8080/",
     "height": 265
    },
    "colab_type": "code",
    "id": "LXA32u4wVgBh",
    "outputId": "8f917bfb-566e-4653-d615-ceffab5f4127"
   },
   "outputs": [
    {
     "data": {
      "image/png": "[encoded data removed]",
      "text/plain": [
       "<Figure size 432x288 with 1 Axes>"
      ]
     },
     "metadata": {
      "needs_background": "light"
     },
     "output_type": "display_data"
    }
   ],
   "source": [
    "#group data by year for box plot analysis\n",
    "#1974 only has 10 months and not a full year, so we exclude it\n",
    "grps = data_set['1966':'1973'].groupby(pd.Grouper(freq='A'))\n",
    "yrs = pd.DataFrame({name.year: grp.values for name, grp in grps})\n",
    "yrs.boxplot()\n",
    "plt.show()"
   ]
  },
  {
   "cell_type": "markdown",
   "metadata": {
    "colab_type": "text",
    "id": "uDRb9KGAVgBm"
   },
   "source": [
    "### Box plot observations\n",
    "- The earlier 2 years seem to have a much smaller variance, with the 1st and 3rd quantile being much closer to the median values.\n",
    "- The variance changes over time, but does not appear to do so consistently.\n",
    "- The median values do not exhibit a linear trend."
   ]
  },
  {
   "cell_type": "code",
   "execution_count": 9,
   "metadata": {
    "colab": {
     "base_uri": "https://localhost:8080/",
     "height": 171
    },
    "colab_type": "code",
    "id": "VlzJsGwjVgBm",
    "outputId": "ad4aecfe-27b0-4231-db50-68033c7a9c9a",
    "scrolled": true
   },
   "outputs": [
    {
     "name": "stdout",
     "output_type": "stream",
     "text": [
      "ADF Statistic:  0.797\n",
      "p-value:  0.992\n",
      "Critical Values:\n",
      "\t1%: -3.503\n",
      "\t5%: -2.893\n",
      "\t10%: -2.584\n"
     ]
    }
   ],
   "source": [
    "#Implement an ARIMA model to forecast the number of robberies over time\n",
    "#first check for stationarity of the data set using the augmented Dickey-Fuller test\n",
    "from statsmodels.tsa.stattools import adfuller\n",
    "\n",
    "def check_stationary(data):\n",
    "    '''function to check data stationarity using adfuller from statsmodel'''\n",
    "    result = adfuller(data)\n",
    "    print(f'ADF Statistic: {result[0]: .3f}')\n",
    "    print(f'p-value: {result[1]: .3f}')\n",
    "    print(f'Critical Values:')\n",
    "    for key, value in result[4].items():\n",
    "        print('\\t%s: %.3f' % (key, value))\n",
    "\n",
    "\n",
    "#check if stationary using Dickey-Fuller\n",
    "check_stationary(data_set.values)"
   ]
  },
  {
   "cell_type": "markdown",
   "metadata": {
    "colab_type": "text",
    "id": "IDZ8apl7VgBp"
   },
   "source": [
    "### Dickey-Fuller Test observation:\n",
    "- The test statistic value is 0.797 , which is larger than the critical value of -2.893. This indicates that we cannot reject the null hypothesis, which claims that the data is non-stationary, with a significance level of less than 5%."
   ]
  },
  {
   "cell_type": "code",
   "execution_count": 10,
   "metadata": {
    "colab": {
     "base_uri": "https://localhost:8080/",
     "height": 118
    },
    "colab_type": "code",
    "id": "b0qeakyHVgBp",
    "outputId": "8d8e4e14-21f4-4abf-ef0f-cc3617591980"
   },
   "outputs": [
    {
     "name": "stdout",
     "output_type": "stream",
     "text": [
      "ADF Statistic: -3.981\n",
      "p-value:  0.002\n",
      "Critical Values:\n",
      "\t1%: -3.503\n",
      "\t5%: -2.893\n",
      "\t10%: -2.584\n"
     ]
    }
   ],
   "source": [
    "#Employ first order differencing\n",
    "def differencing(data):\n",
    "    '''Function executes differencing of order 1 when called'''\n",
    "    differenced = [(data[i] - data[i-1]) for i in range(1, len(data))]\n",
    "    return differenced\n",
    "\n",
    "#executing differencing of order 1\n",
    "stationary_X = differencing(X)\n",
    "\n",
    "#check if the data is stationary now\n",
    "check_stationary(stationary_X)"
   ]
  },
  {
   "cell_type": "markdown",
   "metadata": {
    "colab_type": "text",
    "id": "KVhgbaVMVgBs"
   },
   "source": [
    "- The test statistic value is -3.981 , which is smaller than the critical value of -2.893. This indicates that we can reject the null hypothesis, which claims that the data is non-stationary, with a significance level of less than 5%.\n",
    "- Differencing by order of 1 seems to have made the data set stationary."
   ]
  },
  {
   "cell_type": "code",
   "execution_count": 11,
   "metadata": {
    "colab": {
     "base_uri": "https://localhost:8080/",
     "height": 297
    },
    "colab_type": "code",
    "id": "HBYlsOFYVgBs",
    "outputId": "031feb23-2300-4bf8-d4ef-a864cfb051c7"
   },
   "outputs": [
    {
     "data": {
      "image/png": "[encoded data removed]",
      "text/plain": [
       "<Figure size 432x288 with 2 Axes>"
      ]
     },
     "metadata": {
      "needs_background": "light"
     },
     "output_type": "display_data"
    }
   ],
   "source": [
    "#create ACF and PACF plots to check for autocorrelation\n",
    "from statsmodels.graphics.tsaplots import plot_acf\n",
    "from statsmodels.graphics.tsaplots import plot_pacf\n",
    "plt.figure()\n",
    "plt.subplot(211)\n",
    "plot_acf(X, lags=50, ax=plt.gca())\n",
    "plt.subplot(212)\n",
    "plot_pacf(X, lags=50, ax=plt.gca())\n",
    "\n",
    "#fix any plot overlap with tight layout\n",
    "plt.tight_layout()\n",
    "plt.show()"
   ]
  },
  {
   "cell_type": "markdown",
   "metadata": {
    "colab_type": "text",
    "id": "hnmI4NIRVgBv",
    "scrolled": true
   },
   "source": [
    "### ACF and PACF plot observations\n",
    "\n",
    "- The ACF plot shows that lags are significant for 10-12 months.\n",
    "- The PACF plot shows that lags are significant for likely just 2 months.\n",
    "- The PACF plot suggests that perhaps the autocorrelations at lag 3 and thereafter are due to the propagation of the autocorrelations at lags 1 and 2.\n",
    "- The plot suggest an ARMA(12,2) that can be used for modelling.\n",
    "- Since differencing order of the data is 1, an ARIMA(12,1,2) should be a good starting point for modelling the data."
   ]
  },
  {
   "cell_type": "code",
   "execution_count": 12,
   "metadata": {
    "colab": {
     "base_uri": "https://localhost:8080/",
     "height": 924
    },
    "colab_type": "code",
    "id": "FulBAQA_VgBw",
    "outputId": "e9dc1e76-7bab-42ef-d045-6e177920964d",
    "scrolled": true
   },
   "outputs": [
    {
     "name": "stdout",
     "output_type": "stream",
     "text": [
      ">Predicted=102.710, Expected=125.000\n",
      ">Predicted=118.868, Expected=155.000\n",
      ">Predicted=141.099, Expected=190.000\n",
      ">Predicted=176.593, Expected=236.000\n",
      ">Predicted=233.418, Expected=189.000\n",
      ">Predicted=186.905, Expected=174.000\n",
      ">Predicted=184.846, Expected=178.000\n",
      ">Predicted=183.763, Expected=136.000\n",
      ">Predicted=146.180, Expected=161.000\n",
      ">Predicted=171.279, Expected=171.000\n",
      ">Predicted=170.196, Expected=149.000\n",
      ">Predicted=154.425, Expected=184.000\n",
      ">Predicted=185.707, Expected=155.000\n",
      ">Predicted=157.284, Expected=276.000\n",
      ">Predicted=245.280, Expected=224.000\n",
      ">Predicted=222.242, Expected=213.000\n",
      ">Predicted=219.698, Expected=279.000\n",
      ">Predicted=261.506, Expected=268.000\n",
      ">Predicted=264.287, Expected=287.000\n",
      ">Predicted=282.759, Expected=238.000\n",
      ">Predicted=255.843, Expected=213.000\n",
      ">Predicted=235.189, Expected=257.000\n",
      ">Predicted=257.622, Expected=293.000\n",
      ">Predicted=280.345, Expected=212.000\n",
      ">Predicted=235.564, Expected=246.000\n",
      ">Predicted=255.342, Expected=353.000\n",
      ">Predicted=318.613, Expected=339.000\n",
      ">Predicted=310.335, Expected=308.000\n",
      ">Predicted=306.789, Expected=247.000\n",
      ">Predicted=270.213, Expected=257.000\n",
      ">Predicted=283.318, Expected=322.000\n",
      ">Predicted=316.063, Expected=298.000\n",
      ">Predicted=294.466, Expected=273.000\n",
      ">Predicted=289.635, Expected=312.000\n",
      ">Predicted=314.759, Expected=249.000\n",
      ">Predicted=268.675, Expected=286.000\n",
      ">Predicted=303.095, Expected=279.000\n",
      ">Predicted=286.441, Expected=309.000\n",
      ">Predicted=309.455, Expected=401.000\n",
      ">Predicted=363.141, Expected=309.000\n",
      ">Predicted=304.979, Expected=328.000\n",
      ">Predicted=336.240, Expected=353.000\n",
      ">Predicted=342.814, Expected=354.000\n",
      ">Predicted=347.675, Expected=327.000\n",
      ">Predicted=335.842, Expected=324.000\n",
      ">Predicted=338.449, Expected=285.000\n",
      ">Predicted=314.714, Expected=243.000\n",
      ">Predicted=290.336, Expected=241.000\n",
      ">Predicted=280.614, Expected=287.000\n",
      ">Predicted=302.079, Expected=355.000\n",
      ">Predicted=340.210, Expected=460.000\n",
      ">Predicted=405.172, Expected=364.000\n",
      ">Predicted=333.755, Expected=487.000\n",
      "RMSE:  49.821\n"
     ]
    }
   ],
   "source": [
    "#try an ARIMA model\n",
    "from statsmodels.tsa.arima_model import ARIMA\n",
    "arima1212_hist = [x for x in train_set]\n",
    "arima1212_pred = []\n",
    "for i in range(len(test_set)):\n",
    "    # predict\n",
    "    model = ARIMA(arima1212_hist, order=(0,1,2))\n",
    "    model_fit = model.fit(disp=0)\n",
    "    arima1212_y_hat = model_fit.forecast()[0]\n",
    "    arima1212_pred.append(arima1212_y_hat)\n",
    "    # observation\n",
    "    obs = test_set[i]\n",
    "    arima1212_hist.append(obs)\n",
    "    print('>Predicted=%.3f, Expected=%.3f' % (arima1212_y_hat, obs))\n",
    "# report performance\n",
    "rmse = sqrt(mse(test_set, arima1212_pred))\n",
    "print(f'RMSE: {rmse: .3f}')"
   ]
  },
  {
   "cell_type": "code",
   "execution_count": 37,
   "metadata": {
    "colab": {},
    "colab_type": "code",
    "id": "XYcxkdsSVgBz"
   },
   "outputs": [],
   "source": [
    "#Use Grid Search to find the optimal p,d,q hyperparameters\n",
    "def evaluate_arima_model(data, arima_order):\n",
    "    '''Function to evaluate data set X based on ARIMA order with some (p,d,q) and return RMSE'''\n",
    "    #prepare training data\n",
    "    data = data.astype('float32')\n",
    "    train_size = int(len(data) * 0.50)\n",
    "    train, test = data[0:train_size], data[train_size:]\n",
    "    history = [x for x in train]\n",
    "    # make predictions\n",
    "    predictions = list()\n",
    "    for t in range(len(test)):\n",
    "        model = ARIMA(history, order=arima_order)\n",
    "        model_fit = model.fit(disp=0)\n",
    "        yhat = model_fit.forecast()[0]\n",
    "        predictions.append(yhat)\n",
    "        history.append(test[t])\n",
    "    # calculate out of sample error\n",
    "    rmse = sqrt(mse(test, predictions))\n",
    "    return rmse\n",
    "\n",
    "def evaluate_models(data, p_val, d_val, q_val):\n",
    "    #convert data set to float to prevent numpy error\n",
    "    data = data.astype('float32')\n",
    "    best_rmse, best_config = float('inf'), None\n",
    "    #loop through all values of p,d,q to try every configuration order for ARIMA\n",
    "    for p in p_val:\n",
    "        for d in d_val:\n",
    "            for q in q_val:\n",
    "                order = (p,d,q)\n",
    "                try:\n",
    "                    rmse = evaluate_arima_model(data, order)\n",
    "                    if rmse < best_rmse:\n",
    "                        best_rmse, best_config = rmse, order\n",
    "                    print('ARIMA%s, RMSE = %.3f' % (order, rmse))\n",
    "                except:\n",
    "                    continue\n",
    "    print('Best ARIMA%s, RMSE = %.3f' % (best_config, best_rmse))"
   ]
  },
  {
   "cell_type": "code",
   "execution_count": 20,
   "metadata": {
    "colab": {
     "base_uri": "https://localhost:8080/",
     "height": 571
    },
    "colab_type": "code",
    "id": "SHp802c8VgB2",
    "outputId": "65fd5630-0a84-4e17-ad2b-0246a03cf29f",
    "scrolled": true
   },
   "outputs": [
    {
     "name": "stdout",
     "output_type": "stream",
     "text": [
      "ARIMA(0, 0, 0), RMSE = 154.962\n",
      "ARIMA(0, 0, 1), RMSE = 99.360\n",
      "ARIMA(0, 1, 0), RMSE = 51.827\n",
      "ARIMA(0, 1, 1), RMSE = 50.417\n",
      "ARIMA(0, 1, 2), RMSE = 49.821\n",
      "ARIMA(1, 0, 0), RMSE = 53.243\n",
      "ARIMA(1, 1, 0), RMSE = 50.582\n",
      "ARIMA(2, 0, 0), RMSE = 52.032\n",
      "ARIMA(2, 1, 0), RMSE = 50.761\n",
      "ARIMA(2, 1, 1), RMSE = 50.407\n",
      "ARIMA(3, 0, 0), RMSE = 52.234\n",
      "ARIMA(3, 1, 0), RMSE = 51.901\n",
      "ARIMA(3, 1, 1), RMSE = 50.295\n",
      "ARIMA(4, 0, 0), RMSE = 53.335\n",
      "ARIMA(4, 1, 0), RMSE = 52.420\n",
      "ARIMA(4, 1, 1), RMSE = 52.295\n",
      "ARIMA(5, 0, 0), RMSE = 54.044\n",
      "ARIMA(5, 1, 0), RMSE = 52.653\n",
      "ARIMA(5, 1, 1), RMSE = 52.883\n",
      "ARIMA(6, 0, 0), RMSE = 54.142\n",
      "ARIMA(6, 1, 0), RMSE = 52.437\n",
      "ARIMA(6, 1, 1), RMSE = 51.488\n",
      "ARIMA(7, 0, 0), RMSE = 54.121\n",
      "ARIMA(7, 1, 0), RMSE = 51.104\n",
      "ARIMA(7, 1, 1), RMSE = 52.340\n",
      "ARIMA(8, 0, 0), RMSE = 53.099\n",
      "ARIMA(8, 1, 0), RMSE = 51.759\n",
      "ARIMA(8, 1, 1), RMSE = 51.942\n",
      "ARIMA(9, 1, 0), RMSE = 52.491\n",
      "ARIMA(10, 1, 0), RMSE = 50.661\n",
      "ARIMA(11, 1, 0), RMSE = 50.960\n",
      "ARIMA(12, 1, 0), RMSE = 51.174\n",
      "Best ARIMA(0, 1, 2), RMSE = 49.821\n"
     ]
    }
   ],
   "source": [
    "#evaluate data set with all possible hyperparameter configurations\n",
    "p_val = range(0,13)\n",
    "d_val = range(0,2)\n",
    "q_val = range(0,13)\n",
    "\n",
    "#turn off verbose warning messages\n",
    "import warnings\n",
    "warnings.filterwarnings(\"ignore\")\n",
    "evaluate_models(X, p_val, d_val, q_val)"
   ]
  },
  {
   "cell_type": "markdown",
   "metadata": {
    "colab_type": "text",
    "id": "7KibYhLA6NZt"
   },
   "source": [
    "### Grid Search Results\n",
    "- The best ARIMA model is an ARIMA(0,1,2) with an RMSE of 49.821"
   ]
  },
  {
   "cell_type": "code",
   "execution_count": 13,
   "metadata": {
    "colab": {
     "base_uri": "https://localhost:8080/",
     "height": 281
    },
    "colab_type": "code",
    "id": "qQs0s11v6boO",
    "outputId": "b46ef711-364a-496e-d54f-2a165ffb42fa"
   },
   "outputs": [
    {
     "data": {
      "image/png": "[encoded data removed]",
      "text/plain": [
       "<Figure size 432x288 with 2 Axes>"
      ]
     },
     "metadata": {
      "needs_background": "light"
     },
     "output_type": "display_data"
    }
   ],
   "source": [
    "#Check residual errors for other features\n",
    "#plot residual\n",
    "residuals = [test_set[i]-arima1212_pred[i] for i in range(len(test_set))]\n",
    "residuals = pd.DataFrame(residuals)\n",
    "plt.figure()\n",
    "plt.subplot(211)\n",
    "residuals.hist(ax=plt.gca())\n",
    "plt.subplot(212)\n",
    "residuals.plot(kind='kde', ax=plt.gca())\n",
    "plt.show()"
   ]
  },
  {
   "cell_type": "markdown",
   "metadata": {
    "colab_type": "text",
    "id": "eISKm30d8epb"
   },
   "source": [
    "### Histogram and density plot observations\n",
    "- Both histogram and density plots show a distribution that is much closer to Gaussian, however, the longer right tail suggests that some other relationship has not been captured."
   ]
  },
  {
   "cell_type": "code",
   "execution_count": 14,
   "metadata": {
    "colab": {
     "base_uri": "https://localhost:8080/",
     "height": 297
    },
    "colab_type": "code",
    "id": "1nTqk94r8-El",
    "outputId": "48217137-7011-4436-ae93-39406e3db291"
   },
   "outputs": [
    {
     "data": {
      "image/png": "[encoded data removed]",
      "text/plain": [
       "<Figure size 432x288 with 2 Axes>"
      ]
     },
     "metadata": {
      "needs_background": "light"
     },
     "output_type": "display_data"
    }
   ],
   "source": [
    "#check ACF and PACF\n",
    "plt.figure()\n",
    "plt.subplot(211)\n",
    "plot_acf(residuals, lags=50, ax=plt.gca())\n",
    "plt.subplot(212)\n",
    "plot_pacf(residuals, lags=50, ax=plt.gca())\n",
    "plt.tight_layout()\n",
    "plt.show()"
   ]
  },
  {
   "cell_type": "markdown",
   "metadata": {
    "colab_type": "text",
    "id": "wSRwr7hh-A4f"
   },
   "source": [
    "### ACF and PACF observations\n",
    "- Any correlation and partial correlation seems to have been captured.\n",
    "- There is an anomaly at t-38 in the PACF plot."
   ]
  },
  {
   "cell_type": "code",
   "execution_count": 16,
   "metadata": {
    "colab": {
     "base_uri": "https://localhost:8080/",
     "height": 34
    },
    "colab_type": "code",
    "id": "UHXDvfKX-XUp",
    "outputId": "1bc28c81-1c1b-4d43-d2da-22f014d19882"
   },
   "outputs": [
    {
     "name": "stdout",
     "output_type": "stream",
     "text": [
      "Lambda:  0.260\n"
     ]
    }
   ],
   "source": [
    "#use Box-Cox transform to further evaluate starting data set for any potential relationships\n",
    "from scipy.stats import boxcox\n",
    "from statsmodels.graphics.gofplots import qqplot\n",
    "#turn off verbose warning messages\n",
    "import warnings\n",
    "warnings.filterwarnings(\"ignore\")\n",
    "transformed, lamd = boxcox(X)\n",
    "print(f'Lambda: {lamd: .3f}')"
   ]
  },
  {
   "cell_type": "code",
   "execution_count": 17,
   "metadata": {
    "colab": {
     "base_uri": "https://localhost:8080/",
     "height": 297
    },
    "colab_type": "code",
    "id": "E99dTEnJ_PCG",
    "outputId": "283e12ef-1b9c-4ee8-c90e-444a19a47bde",
    "scrolled": true
   },
   "outputs": [
    {
     "data": {
      "image/png": "[encoded data removed]",
      "text/plain": [
       "<Figure size 432x288 with 3 Axes>"
      ]
     },
     "metadata": {
      "needs_background": "light"
     },
     "output_type": "display_data"
    }
   ],
   "source": [
    "#plot transformed data, histogram and q-q plots\n",
    "plt.figure()\n",
    "#plot transformed data\n",
    "plt.subplot(311)\n",
    "plt.plot(transformed)\n",
    "#plot histogram\n",
    "plt.subplot(312)\n",
    "plt.hist(transformed)\n",
    "#plot q-q plot\n",
    "plt.subplot(313)\n",
    "qqplot(transformed, line='r', ax=plt.gca())\n",
    "plt.tight_layout()\n",
    "plt.show()"
   ]
  },
  {
   "cell_type": "markdown",
   "metadata": {
    "colab_type": "text",
    "id": "wfUqgnRQAeBE"
   },
   "source": [
    "### Data transform results\n",
    "- Transforming the data has reduced the high variability of the data in the later years.\n",
    "- The transformed data has a more uniform and well-behaved distribution\n",
    "- The transformed data is still not perfectly Gaussian."
   ]
  },
  {
   "cell_type": "code",
   "execution_count": 18,
   "metadata": {
    "colab": {},
    "colab_type": "code",
    "id": "-_E3tjQwA8os"
   },
   "outputs": [],
   "source": [
    "#create a function for inverse Box-Cox transform to revert transformed data back to original units\n",
    "from math import log\n",
    "from math import exp\n",
    "def boxcox_inverse(value, lamb):\n",
    "    if lamb == 0:\n",
    "        return exp(value)\n",
    "    return exp(log(lamb*value + 1)/lamb)"
   ]
  },
  {
   "cell_type": "code",
   "execution_count": 60,
   "metadata": {
    "scrolled": false
   },
   "outputs": [
    {
     "name": "stdout",
     "output_type": "stream",
     "text": [
      ">Predicted=104.062, Expected=125.000\n",
      ">Predicted=119.209, Expected=155.000\n",
      ">Predicted=138.903, Expected=190.000\n",
      ">Predicted=166.146, Expected=236.000\n",
      ">Predicted=205.946, Expected=189.000\n",
      ">Predicted=183.612, Expected=174.000\n",
      ">Predicted=184.411, Expected=178.000\n",
      ">Predicted=186.637, Expected=136.000\n",
      ">Predicted=154.274, Expected=161.000\n",
      ">Predicted=175.673, Expected=171.000\n",
      ">Predicted=174.166, Expected=149.000\n",
      ">Predicted=159.919, Expected=184.000\n",
      ">Predicted=187.302, Expected=155.000\n",
      ">Predicted=161.653, Expected=276.000\n",
      ">Predicted=244.354, Expected=224.000\n",
      ">Predicted=212.415, Expected=213.000\n",
      ">Predicted=221.180, Expected=279.000\n",
      ">Predicted=262.629, Expected=268.000\n",
      ">Predicted=260.125, Expected=287.000\n",
      ">Predicted=283.321, Expected=238.000\n",
      ">Predicted=255.089, Expected=213.000\n",
      ">Predicted=241.694, Expected=257.000\n",
      ">Predicted=267.296, Expected=293.000\n",
      ">Predicted=286.368, Expected=212.000\n",
      ">Predicted=237.871, Expected=246.000\n",
      ">Predicted=265.183, Expected=353.000\n",
      ">Predicted=323.318, Expected=339.000\n",
      ">Predicted=318.584, Expected=308.000\n",
      ">Predicted=315.816, Expected=247.000\n",
      ">Predicted=279.561, Expected=257.000\n",
      ">Predicted=289.125, Expected=322.000\n",
      ">Predicted=323.738, Expected=298.000\n",
      ">Predicted=305.205, Expected=273.000\n",
      ">Predicted=297.093, Expected=312.000\n",
      ">Predicted=322.521, Expected=249.000\n",
      ">Predicted=275.872, Expected=286.000\n",
      ">Predicted=307.548, Expected=279.000\n",
      ">Predicted=291.949, Expected=309.000\n",
      ">Predicted=315.578, Expected=401.000\n",
      ">Predicted=369.477, Expected=309.000\n",
      ">Predicted=316.868, Expected=328.000\n",
      ">Predicted=345.388, Expected=353.000\n",
      ">Predicted=353.504, Expected=354.000\n",
      ">Predicted=358.413, Expected=327.000\n",
      ">Predicted=345.135, Expected=324.000\n",
      ">Predicted=346.405, Expected=285.000\n",
      ">Predicted=318.015, Expected=243.000\n",
      ">Predicted=286.562, Expected=241.000\n",
      ">Predicted=276.252, Expected=287.000\n",
      ">Predicted=299.811, Expected=355.000\n",
      ">Predicted=338.997, Expected=460.000\n",
      ">Predicted=404.507, Expected=364.000\n",
      ">Predicted=349.341, Expected=487.000\n",
      "RMSE:  49.103\n"
     ]
    }
   ],
   "source": [
    "#reevaluate ARIMA(0,1,2) with the box-cox transformed time series\n",
    "hist_t = [x for x in train_set]\n",
    "pred_t = []\n",
    "#predict using transformed data\n",
    "for i in range(len(test_set)):\n",
    "    #transform\n",
    "    tf, lam = boxcox(hist_t)\n",
    "    #don't do transform if lambda is less than 5\n",
    "    if lam < -5:\n",
    "        tf, lam = hist_t, 1\n",
    "    model = ARIMA(tf, order=(0,1,2))\n",
    "    model_fit = model.fit(disp=0)\n",
    "    y_hat_t = model_fit.forecast()[0]\n",
    "    #invert transformed prediction\n",
    "    y_hat_t = boxcox_inverse(y_hat_t, lam)\n",
    "    pred_t.append(y_hat_t)\n",
    "    #observation\n",
    "    obs_t = test_set[i]\n",
    "    hist_t.append(obs_t)\n",
    "    print('>Predicted=%.3f, Expected=%.3f' % (y_hat_t, obs_t))\n",
    "# report performance\n",
    "rmse = sqrt(mse(test_set, pred_t))\n",
    "print(f'RMSE: {rmse: .3f}')\n",
    "##finalize model and save \n",
    "# monkey patch around bug in ARIMA class\n",
    "# def __getnewargs__(self):\n",
    "#     return ((self.endog),(self.k_lags, self.k_diff, self.k_ma))\n",
    "# ARIMA.__getnewargs__ = __getnewargs__\n",
    "model_fit.save('model_arima012.pkl')\n",
    "np.save('model_lambda.npy',[lam])"
   ]
  },
  {
   "cell_type": "markdown",
   "metadata": {},
   "source": [
    "- Running the ARIMA(0,1,2) model on the transformed data set gave a slightly lower RMSE."
   ]
  },
  {
   "cell_type": "code",
   "execution_count": 66,
   "metadata": {},
   "outputs": [],
   "source": [
    "# finalize model and save to file with workaround\n",
    "# transform data, use entire data set X now to train the model\n",
    "transformed, lam = boxcox(X)\n",
    "# fit model\n",
    "model = ARIMA(transformed, order=(0,1,2))\n",
    "model_fit = model.fit(disp=0)\n",
    "# save model\n",
    "model_fit.save('model_arima012.pkl')\n",
    "numpy.save('model_lambda.npy', [lam])"
   ]
  },
  {
   "cell_type": "code",
   "execution_count": 77,
   "metadata": {},
   "outputs": [
    {
     "name": "stdout",
     "output_type": "stream",
     "text": [
      "Predicted: 452.039\n",
      "Actual value in CV set: 452.000\n",
      "RMSE is  0.039\n"
     ]
    }
   ],
   "source": [
    "# # load the finalized model and make a prediction\n",
    "model_fit = ARIMAResults.load('model_arima012.pkl')\n",
    "lam = np.load('model_lambda.npy')\n",
    "yhat = model_fit.forecast()[0]\n",
    "yhat = boxcox_inverse(yhat, lam)\n",
    "print(f'Predicted:{yhat: .3f}')\n",
    "print(f'Actual value in CV set:{cv_set[0]: .3f}')\n",
    "print(f'RMSE is {sqrt((cv_set[0]-yhat)**2): .3f}')"
   ]
  },
  {
   "cell_type": "markdown",
   "metadata": {},
   "source": [
    "- Predicted value was very close to actual value in cross validation set, with an RMSE of 0.039"
   ]
  },
  {
   "cell_type": "code",
   "execution_count": 91,
   "metadata": {},
   "outputs": [
    {
     "name": "stdout",
     "output_type": "stream",
     "text": [
      ">Predicted=452.039, Expected=452.000\n",
      ">Predicted=423.097, Expected=391.000\n",
      ">Predicted=408.375, Expected=500.000\n",
      ">Predicted=482.456, Expected=451.000\n",
      ">Predicted=445.943, Expected=375.000\n",
      ">Predicted=413.894, Expected=372.000\n",
      ">Predicted=413.210, Expected=302.000\n",
      ">Predicted=355.157, Expected=316.000\n",
      ">Predicted=363.514, Expected=398.000\n",
      ">Predicted=406.362, Expected=394.000\n",
      ">Predicted=394.186, Expected=431.000\n",
      ">Predicted=428.175, Expected=431.000\n",
      "RMSE:  53.079\n"
     ]
    },
    {
     "data": {
      "image/png": "[encoded data removed]",
      "text/plain": [
       "<Figure size 432x288 with 1 Axes>"
      ]
     },
     "metadata": {
      "needs_background": "light"
     },
     "output_type": "display_data"
    }
   ],
   "source": [
    "#use cross validation set to test how well the model can make predictions on out-of-sample data\n",
    "#load CV set as target outputs\n",
    "y = cv_set.values.astype('float32')\n",
    "#load model and boxcox lambda\n",
    "model_fit = ARIMAResults.load('model_arima012.pkl')\n",
    "lamb = np.load('model_lambda.npy')\n",
    "#create expanding window forecast, with all subsequent target outputs added to history\n",
    "hist = [x for x in X]\n",
    "pred = []\n",
    "#make predictions\n",
    "for i in range(len(y)):\n",
    "    tf, lam = boxcox(hist)\n",
    "    if lam < -5:\n",
    "        tf, lam = hist, 1\n",
    "    model = ARIMA(tf, order=(0,1,2))\n",
    "    model_fit = model.fit(disp=False)\n",
    "    yhat = model_fit.forecast()[0]\n",
    "    #inverse transformed prediction\n",
    "    yhat = boxcox_inverse(yhat, lam)\n",
    "    pred.append(yhat)\n",
    "    obs = y[i]\n",
    "    hist.append(obs)\n",
    "    print('>Predicted=%.3f, Expected=%.3f' % (yhat, obs))\n",
    "#report performance\n",
    "rmse = sqrt(mse(y, pred))\n",
    "print(f'RMSE: {rmse: .3f}')\n",
    "#plot predictions with actuals\n",
    "plt.plot(y)\n",
    "plt.plot(pred, color='r')\n",
    "plt.show()"
   ]
  },
  {
   "cell_type": "code",
   "execution_count": 90,
   "metadata": {},
   "outputs": [
    {
     "name": "stdout",
     "output_type": "stream",
     "text": [
      ">Predicted=452.039, Expected=452.000\n",
      ">Predicted=421.245, Expected=391.000\n",
      ">Predicted=407.615, Expected=500.000\n",
      ">Predicted=481.845, Expected=451.000\n",
      ">Predicted=442.547, Expected=375.000\n",
      ">Predicted=413.036, Expected=372.000\n",
      ">Predicted=414.186, Expected=302.000\n",
      ">Predicted=358.644, Expected=316.000\n",
      ">Predicted=371.551, Expected=398.000\n",
      ">Predicted=412.635, Expected=394.000\n",
      ">Predicted=397.388, Expected=431.000\n",
      ">Predicted=431.099, Expected=431.000\n",
      "RMSE:  52.622\n"
     ]
    },
    {
     "data": {
      "image/png": "[encoded data removed]",
      "text/plain": [
       "<Figure size 432x288 with 1 Axes>"
      ]
     },
     "metadata": {
      "needs_background": "light"
     },
     "output_type": "display_data"
    }
   ],
   "source": [
    "#try rolling window forecast, with all subsequent target outputs added to history\n",
    "hist = [x for x in X]\n",
    "pred = []\n",
    "#make predictions\n",
    "for i in range(len(y)):\n",
    "    tf, lam = boxcox(hist[i:])\n",
    "    if lam < -5:\n",
    "        tf, lam = hist[i:], 1\n",
    "    model = ARIMA(tf, order=(0,1,2))\n",
    "    model_fit = model.fit(disp=False)\n",
    "    yhat = model_fit.forecast()[0]\n",
    "    #inverse transformed prediction\n",
    "    yhat = boxcox_inverse(yhat, lam)\n",
    "    pred.append(yhat)\n",
    "    obs = y[i]\n",
    "    hist.append(obs)\n",
    "    print('>Predicted=%.3f, Expected=%.3f' % (yhat, obs))\n",
    "#report performance\n",
    "rmse = sqrt(mse(y, pred))\n",
    "print(f'RMSE: {rmse: .3f}')\n",
    "#plot predictions with actuals\n",
    "plt.plot(y)\n",
    "plt.plot(pred, color='g')\n",
    "plt.show()"
   ]
  },
  {
   "cell_type": "markdown",
   "metadata": {},
   "source": [
    "### ARIMA prediction results:\n",
    "- Differences between expanding window and rolling window forecasts are minimal, with an RMSE of around 53.\n",
    "- ARIMA may not be sufficient to effectively model the time series\n",
    "- Try more sophisticated methods, such as an LSTM RNN model"
   ]
  },
  {
   "cell_type": "code",
   "execution_count": null,
   "metadata": {},
   "outputs": [],
   "source": []
  }
 ],
 "metadata": {
  "colab": {
   "include_colab_link": true,
   "name": "Copy of HTX_Armed_Robberies.ipynb",
   "provenance": []
  },
  "kernelspec": {
   "display_name": "Python 3",
   "language": "python",
   "name": "python3"
  },
  "language_info": {
   "codemirror_mode": {
    "name": "ipython",
    "version": 3
   },
   "file_extension": ".py",
   "mimetype": "text/x-python",
   "name": "python",
   "nbconvert_exporter": "python",
   "pygments_lexer": "ipython3",
   "version": "3.7.4"
  }
 },
 "nbformat": 4,
 "nbformat_minor": 1
}
