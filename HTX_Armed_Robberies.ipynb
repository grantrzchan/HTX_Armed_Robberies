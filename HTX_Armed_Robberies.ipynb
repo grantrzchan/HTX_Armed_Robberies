{
 "cells": [
  {
   "cell_type": "markdown",
   "metadata": {
    "colab_type": "text",
    "id": "view-in-github"
   },
   "source": [
    "<a href=\"https://colab.research.google.com/github/grantrzchan/HTX_Armed_Robberies/blob/master/HTX_Armed_Robberies.ipynb\" target=\"_parent\"><img src=\"https://colab.research.google.com/assets/colab-badge.svg\" alt=\"Open In Colab\"/></a>"
   ]
  },
  {
   "cell_type": "code",
   "execution_count": 163,
   "metadata": {
    "colab": {
     "base_uri": "https://localhost:8080/",
     "height": 74,
     "resources": {
      "http://localhost:8080/nbextensions/google.colab/files.js": {
       "data": "Ly8gQ29weXJpZ2h0IDIwMTcgR29vZ2xlIExMQwovLwovLyBMaWNlbnNlZCB1bmRlciB0aGUgQXBhY2hlIExpY2Vuc2UsIFZlcnNpb24gMi4wICh0aGUgIkxpY2Vuc2UiKTsKLy8geW91IG1heSBub3QgdXNlIHRoaXMgZmlsZSBleGNlcHQgaW4gY29tcGxpYW5jZSB3aXRoIHRoZSBMaWNlbnNlLgovLyBZb3UgbWF5IG9idGFpbiBhIGNvcHkgb2YgdGhlIExpY2Vuc2UgYXQKLy8KLy8gICAgICBodHRwOi8vd3d3LmFwYWNoZS5vcmcvbGljZW5zZXMvTElDRU5TRS0yLjAKLy8KLy8gVW5sZXNzIHJlcXVpcmVkIGJ5IGFwcGxpY2FibGUgbGF3IG9yIGFncmVlZCB0byBpbiB3cml0aW5nLCBzb2Z0d2FyZQovLyBkaXN0cmlidXRlZCB1bmRlciB0aGUgTGljZW5zZSBpcyBkaXN0cmlidXRlZCBvbiBhbiAiQVMgSVMiIEJBU0lTLAovLyBXSVRIT1VUIFdBUlJBTlRJRVMgT1IgQ09ORElUSU9OUyBPRiBBTlkgS0lORCwgZWl0aGVyIGV4cHJlc3Mgb3IgaW1wbGllZC4KLy8gU2VlIHRoZSBMaWNlbnNlIGZvciB0aGUgc3BlY2lmaWMgbGFuZ3VhZ2UgZ292ZXJuaW5nIHBlcm1pc3Npb25zIGFuZAovLyBsaW1pdGF0aW9ucyB1bmRlciB0aGUgTGljZW5zZS4KCi8qKgogKiBAZmlsZW92ZXJ2aWV3IEhlbHBlcnMgZm9yIGdvb2dsZS5jb2xhYiBQeXRob24gbW9kdWxlLgogKi8KKGZ1bmN0aW9uKHNjb3BlKSB7CmZ1bmN0aW9uIHNwYW4odGV4dCwgc3R5bGVBdHRyaWJ1dGVzID0ge30pIHsKICBjb25zdCBlbGVtZW50ID0gZG9jdW1lbnQuY3JlYXRlRWxlbWVudCgnc3BhbicpOwogIGVsZW1lbnQudGV4dENvbnRlbnQgPSB0ZXh0OwogIGZvciAoY29uc3Qga2V5IG9mIE9iamVjdC5rZXlzKHN0eWxlQXR0cmlidXRlcykpIHsKICAgIGVsZW1lbnQuc3R5bGVba2V5XSA9IHN0eWxlQXR0cmlidXRlc1trZXldOwogIH0KICByZXR1cm4gZWxlbWVudDsKfQoKLy8gTWF4IG51bWJlciBvZiBieXRlcyB3aGljaCB3aWxsIGJlIHVwbG9hZGVkIGF0IGEgdGltZS4KY29uc3QgTUFYX1BBWUxPQURfU0laRSA9IDEwMCAqIDEwMjQ7Ci8vIE1heCBhbW91bnQgb2YgdGltZSB0byBibG9jayB3YWl0aW5nIGZvciB0aGUgdXNlci4KY29uc3QgRklMRV9DSEFOR0VfVElNRU9VVF9NUyA9IDMwICogMTAwMDsKCmZ1bmN0aW9uIF91cGxvYWRGaWxlcyhpbnB1dElkLCBvdXRwdXRJZCkgewogIGNvbnN0IHN0ZXBzID0gdXBsb2FkRmlsZXNTdGVwKGlucHV0SWQsIG91dHB1dElkKTsKICBjb25zdCBvdXRwdXRFbGVtZW50ID0gZG9jdW1lbnQuZ2V0RWxlbWVudEJ5SWQob3V0cHV0SWQpOwogIC8vIENhY2hlIHN0ZXBzIG9uIHRoZSBvdXRwdXRFbGVtZW50IHRvIG1ha2UgaXQgYXZhaWxhYmxlIGZvciB0aGUgbmV4dCBjYWxsCiAgLy8gdG8gdXBsb2FkRmlsZXNDb250aW51ZSBmcm9tIFB5dGhvbi4KICBvdXRwdXRFbGVtZW50LnN0ZXBzID0gc3RlcHM7CgogIHJldHVybiBfdXBsb2FkRmlsZXNDb250aW51ZShvdXRwdXRJZCk7Cn0KCi8vIFRoaXMgaXMgcm91Z2hseSBhbiBhc3luYyBnZW5lcmF0b3IgKG5vdCBzdXBwb3J0ZWQgaW4gdGhlIGJyb3dzZXIgeWV0KSwKLy8gd2hlcmUgdGhlcmUgYXJlIG11bHRpcGxlIGFzeW5jaHJvbm91cyBzdGVwcyBhbmQgdGhlIFB5dGhvbiBzaWRlIGlzIGdvaW5nCi8vIHRvIHBvbGwgZm9yIGNvbXBsZXRpb24gb2YgZWFjaCBzdGVwLgovLyBUaGlzIHVzZXMgYSBQcm9taXNlIHRvIGJsb2NrIHRoZSBweXRob24gc2lkZSBvbiBjb21wbGV0aW9uIG9mIGVhY2ggc3RlcCwKLy8gdGhlbiBwYXNzZXMgdGhlIHJlc3VsdCBvZiB0aGUgcHJldmlvdXMgc3RlcCBhcyB0aGUgaW5wdXQgdG8gdGhlIG5leHQgc3RlcC4KZnVuY3Rpb24gX3VwbG9hZEZpbGVzQ29udGludWUob3V0cHV0SWQpIHsKICBjb25zdCBvdXRwdXRFbGVtZW50ID0gZG9jdW1lbnQuZ2V0RWxlbWVudEJ5SWQob3V0cHV0SWQpOwogIGNvbnN0IHN0ZXBzID0gb3V0cHV0RWxlbWVudC5zdGVwczsKCiAgY29uc3QgbmV4dCA9IHN0ZXBzLm5leHQob3V0cHV0RWxlbWVudC5sYXN0UHJvbWlzZVZhbHVlKTsKICByZXR1cm4gUHJvbWlzZS5yZXNvbHZlKG5leHQudmFsdWUucHJvbWlzZSkudGhlbigodmFsdWUpID0+IHsKICAgIC8vIENhY2hlIHRoZSBsYXN0IHByb21pc2UgdmFsdWUgdG8gbWFrZSBpdCBhdmFpbGFibGUgdG8gdGhlIG5leHQKICAgIC8vIHN0ZXAgb2YgdGhlIGdlbmVyYXRvci4KICAgIG91dHB1dEVsZW1lbnQubGFzdFByb21pc2VWYWx1ZSA9IHZhbHVlOwogICAgcmV0dXJuIG5leHQudmFsdWUucmVzcG9uc2U7CiAgfSk7Cn0KCi8qKgogKiBHZW5lcmF0b3IgZnVuY3Rpb24gd2hpY2ggaXMgY2FsbGVkIGJldHdlZW4gZWFjaCBhc3luYyBzdGVwIG9mIHRoZSB1cGxvYWQKICogcHJvY2Vzcy4KICogQHBhcmFtIHtzdHJpbmd9IGlucHV0SWQgRWxlbWVudCBJRCBvZiB0aGUgaW5wdXQgZmlsZSBwaWNrZXIgZWxlbWVudC4KICogQHBhcmFtIHtzdHJpbmd9IG91dHB1dElkIEVsZW1lbnQgSUQgb2YgdGhlIG91dHB1dCBkaXNwbGF5LgogKiBAcmV0dXJuIHshSXRlcmFibGU8IU9iamVjdD59IEl0ZXJhYmxlIG9mIG5leHQgc3RlcHMuCiAqLwpmdW5jdGlvbiogdXBsb2FkRmlsZXNTdGVwKGlucHV0SWQsIG91dHB1dElkKSB7CiAgY29uc3QgaW5wdXRFbGVtZW50ID0gZG9jdW1lbnQuZ2V0RWxlbWVudEJ5SWQoaW5wdXRJZCk7CiAgaW5wdXRFbGVtZW50LmRpc2FibGVkID0gZmFsc2U7CgogIGNvbnN0IG91dHB1dEVsZW1lbnQgPSBkb2N1bWVudC5nZXRFbGVtZW50QnlJZChvdXRwdXRJZCk7CiAgb3V0cHV0RWxlbWVudC5pbm5lckhUTUwgPSAnJzsKCiAgY29uc3QgcGlja2VkUHJvbWlzZSA9IG5ldyBQcm9taXNlKChyZXNvbHZlKSA9PiB7CiAgICBpbnB1dEVsZW1lbnQuYWRkRXZlbnRMaXN0ZW5lcignY2hhbmdlJywgKGUpID0+IHsKICAgICAgcmVzb2x2ZShlLnRhcmdldC5maWxlcyk7CiAgICB9KTsKICB9KTsKCiAgY29uc3QgY2FuY2VsID0gZG9jdW1lbnQuY3JlYXRlRWxlbWVudCgnYnV0dG9uJyk7CiAgaW5wdXRFbGVtZW50LnBhcmVudEVsZW1lbnQuYXBwZW5kQ2hpbGQoY2FuY2VsKTsKICBjYW5jZWwudGV4dENvbnRlbnQgPSAnQ2FuY2VsIHVwbG9hZCc7CiAgY29uc3QgY2FuY2VsUHJvbWlzZSA9IG5ldyBQcm9taXNlKChyZXNvbHZlKSA9PiB7CiAgICBjYW5jZWwub25jbGljayA9ICgpID0+IHsKICAgICAgcmVzb2x2ZShudWxsKTsKICAgIH07CiAgfSk7CgogIC8vIENhbmNlbCB1cGxvYWQgaWYgdXNlciBoYXNuJ3QgcGlja2VkIGFueXRoaW5nIGluIHRpbWVvdXQuCiAgY29uc3QgdGltZW91dFByb21pc2UgPSBuZXcgUHJvbWlzZSgocmVzb2x2ZSkgPT4gewogICAgc2V0VGltZW91dCgoKSA9PiB7CiAgICAgIHJlc29sdmUobnVsbCk7CiAgICB9LCBGSUxFX0NIQU5HRV9USU1FT1VUX01TKTsKICB9KTsKCiAgLy8gV2FpdCBmb3IgdGhlIHVzZXIgdG8gcGljayB0aGUgZmlsZXMuCiAgY29uc3QgZmlsZXMgPSB5aWVsZCB7CiAgICBwcm9taXNlOiBQcm9taXNlLnJhY2UoW3BpY2tlZFByb21pc2UsIHRpbWVvdXRQcm9taXNlLCBjYW5jZWxQcm9taXNlXSksCiAgICByZXNwb25zZTogewogICAgICBhY3Rpb246ICdzdGFydGluZycsCiAgICB9CiAgfTsKCiAgaWYgKCFmaWxlcykgewogICAgcmV0dXJuIHsKICAgICAgcmVzcG9uc2U6IHsKICAgICAgICBhY3Rpb246ICdjb21wbGV0ZScsCiAgICAgIH0KICAgIH07CiAgfQoKICBjYW5jZWwucmVtb3ZlKCk7CgogIC8vIERpc2FibGUgdGhlIGlucHV0IGVsZW1lbnQgc2luY2UgZnVydGhlciBwaWNrcyBhcmUgbm90IGFsbG93ZWQuCiAgaW5wdXRFbGVtZW50LmRpc2FibGVkID0gdHJ1ZTsKCiAgZm9yIChjb25zdCBmaWxlIG9mIGZpbGVzKSB7CiAgICBjb25zdCBsaSA9IGRvY3VtZW50LmNyZWF0ZUVsZW1lbnQoJ2xpJyk7CiAgICBsaS5hcHBlbmQoc3BhbihmaWxlLm5hbWUsIHtmb250V2VpZ2h0OiAnYm9sZCd9KSk7CiAgICBsaS5hcHBlbmQoc3BhbigKICAgICAgICBgKCR7ZmlsZS50eXBlIHx8ICduL2EnfSkgLSAke2ZpbGUuc2l6ZX0gYnl0ZXMsIGAgKwogICAgICAgIGBsYXN0IG1vZGlmaWVkOiAkewogICAgICAgICAgICBmaWxlLmxhc3RNb2RpZmllZERhdGUgPyBmaWxlLmxhc3RNb2RpZmllZERhdGUudG9Mb2NhbGVEYXRlU3RyaW5nKCkgOgogICAgICAgICAgICAgICAgICAgICAgICAgICAgICAgICAgICAnbi9hJ30gLSBgKSk7CiAgICBjb25zdCBwZXJjZW50ID0gc3BhbignMCUgZG9uZScpOwogICAgbGkuYXBwZW5kQ2hpbGQocGVyY2VudCk7CgogICAgb3V0cHV0RWxlbWVudC5hcHBlbmRDaGlsZChsaSk7CgogICAgY29uc3QgZmlsZURhdGFQcm9taXNlID0gbmV3IFByb21pc2UoKHJlc29sdmUpID0+IHsKICAgICAgY29uc3QgcmVhZGVyID0gbmV3IEZpbGVSZWFkZXIoKTsKICAgICAgcmVhZGVyLm9ubG9hZCA9IChlKSA9PiB7CiAgICAgICAgcmVzb2x2ZShlLnRhcmdldC5yZXN1bHQpOwogICAgICB9OwogICAgICByZWFkZXIucmVhZEFzQXJyYXlCdWZmZXIoZmlsZSk7CiAgICB9KTsKICAgIC8vIFdhaXQgZm9yIHRoZSBkYXRhIHRvIGJlIHJlYWR5LgogICAgbGV0IGZpbGVEYXRhID0geWllbGQgewogICAgICBwcm9taXNlOiBmaWxlRGF0YVByb21pc2UsCiAgICAgIHJlc3BvbnNlOiB7CiAgICAgICAgYWN0aW9uOiAnY29udGludWUnLAogICAgICB9CiAgICB9OwoKICAgIC8vIFVzZSBhIGNodW5rZWQgc2VuZGluZyB0byBhdm9pZCBtZXNzYWdlIHNpemUgbGltaXRzLiBTZWUgYi82MjExNTY2MC4KICAgIGxldCBwb3NpdGlvbiA9IDA7CiAgICB3aGlsZSAocG9zaXRpb24gPCBmaWxlRGF0YS5ieXRlTGVuZ3RoKSB7CiAgICAgIGNvbnN0IGxlbmd0aCA9IE1hdGgubWluKGZpbGVEYXRhLmJ5dGVMZW5ndGggLSBwb3NpdGlvbiwgTUFYX1BBWUxPQURfU0laRSk7CiAgICAgIGNvbnN0IGNodW5rID0gbmV3IFVpbnQ4QXJyYXkoZmlsZURhdGEsIHBvc2l0aW9uLCBsZW5ndGgpOwogICAgICBwb3NpdGlvbiArPSBsZW5ndGg7CgogICAgICBjb25zdCBiYXNlNjQgPSBidG9hKFN0cmluZy5mcm9tQ2hhckNvZGUuYXBwbHkobnVsbCwgY2h1bmspKTsKICAgICAgeWllbGQgewogICAgICAgIHJlc3BvbnNlOiB7CiAgICAgICAgICBhY3Rpb246ICdhcHBlbmQnLAogICAgICAgICAgZmlsZTogZmlsZS5uYW1lLAogICAgICAgICAgZGF0YTogYmFzZTY0LAogICAgICAgIH0sCiAgICAgIH07CiAgICAgIHBlcmNlbnQudGV4dENvbnRlbnQgPQogICAgICAgICAgYCR7TWF0aC5yb3VuZCgocG9zaXRpb24gLyBmaWxlRGF0YS5ieXRlTGVuZ3RoKSAqIDEwMCl9JSBkb25lYDsKICAgIH0KICB9CgogIC8vIEFsbCBkb25lLgogIHlpZWxkIHsKICAgIHJlc3BvbnNlOiB7CiAgICAgIGFjdGlvbjogJ2NvbXBsZXRlJywKICAgIH0KICB9Owp9CgpzY29wZS5nb29nbGUgPSBzY29wZS5nb29nbGUgfHwge307CnNjb3BlLmdvb2dsZS5jb2xhYiA9IHNjb3BlLmdvb2dsZS5jb2xhYiB8fCB7fTsKc2NvcGUuZ29vZ2xlLmNvbGFiLl9maWxlcyA9IHsKICBfdXBsb2FkRmlsZXMsCiAgX3VwbG9hZEZpbGVzQ29udGludWUsCn07Cn0pKHNlbGYpOwo=",
       "headers": [
        [
         "content-type",
         "application/javascript"
        ]
       ],
       "ok": true,
       "status": 200,
       "status_text": ""
      }
     }
    },
    "colab_type": "code",
    "id": "FJqDBJuwV3Rw",
    "outputId": "59efbe2b-b3ca-4cdc-e717-1ebaa870aea6",
    "scrolled": true
   },
   "outputs": [],
   "source": [
    "'''Data for monthly robberies in Houston, Texas, between 2009 and 2020 year-to-date, compiled using Houston Police Department data'''\n",
    "import pandas as pd\n",
    "import numpy as np\n",
    "import seaborn as sns\n",
    "import math\n",
    "from sklearn.metrics import mean_squared_error as mse\n",
    "from math import sqrt\n",
    "from matplotlib import pyplot as plt\n",
    "\n",
    "#Register datetime converter for matplotlib to prevent issues with seaborn\n",
    "pd.plotting.register_matplotlib_converters()\n",
    "\n",
    "#load data set\n",
    "data_series = pd.read_csv('./data/HTX_robberies.csv', header=0, index_col=0, parse_dates=True, squeeze=True)"
   ]
  },
  {
   "cell_type": "code",
   "execution_count": 164,
   "metadata": {
    "colab": {
     "base_uri": "https://localhost:8080/",
     "height": 34
    },
    "colab_type": "code",
    "id": "dsLnc7zJVgA_",
    "outputId": "0e4302b4-4cc6-4f3e-f8c2-4e82eb371eef"
   },
   "outputs": [
    {
     "name": "stdout",
     "output_type": "stream",
     "text": [
      "Data set: 114 months, Validation set: 16 months\n"
     ]
    }
   ],
   "source": [
    "#split data set into model development data set and cross validation set, use year 2019 and 2020 of data as cv\n",
    "data_end = len(data_series) - 16\n",
    "data_set, cv_set = data_series[0:data_end], data_series[data_end::]\n",
    "print(f'Data set: {len(data_set)} months, Validation set: {len(cv_set)} months')\n",
    "\n",
    "#save training and cv sets to csv format\n",
    "data_set.to_csv('data_set.csv', header = False)\n",
    "cv_set.to_csv('cv_set.csv', header = False)"
   ]
  },
  {
   "cell_type": "code",
   "execution_count": 165,
   "metadata": {
    "colab": {},
    "colab_type": "code",
    "id": "JgdgBr8dVgBF",
    "scrolled": true
   },
   "outputs": [],
   "source": [
    "#create training set and test set\n",
    "X = data_set.values\n",
    "X = X.astype('float32')\n",
    "\n",
    "#start with train set of 50%\n",
    "train_size = int(0.5*len(X))\n",
    "train_set, test_set = X[0:train_size], X[train_size::]"
   ]
  },
  {
   "cell_type": "code",
   "execution_count": 166,
   "metadata": {
    "colab": {
     "base_uri": "https://localhost:8080/",
     "height": 924
    },
    "colab_type": "code",
    "id": "GHZTnpgxVgBK",
    "outputId": "d877d898-a7ff-4009-e31f-07c6ccfb7a4b"
   },
   "outputs": [
    {
     "name": "stdout",
     "output_type": "stream",
     "text": [
      "Predicted:  669.000, Expected:  679.000\n",
      "Predicted:  679.000, Expected:  817.000\n",
      "Predicted:  817.000, Expected:  642.000\n",
      "Predicted:  642.000, Expected:  885.000\n",
      "Predicted:  885.000, Expected:  877.000\n",
      "Predicted:  877.000, Expected:  912.000\n",
      "Predicted:  912.000, Expected:  929.000\n",
      "Predicted:  929.000, Expected:  894.000\n",
      "Predicted:  894.000, Expected:  971.000\n",
      "Predicted:  971.000, Expected:  838.000\n",
      "Predicted:  838.000, Expected:  604.000\n",
      "Predicted:  604.000, Expected:  748.000\n",
      "Predicted:  748.000, Expected:  849.000\n",
      "Predicted:  849.000, Expected:  889.000\n",
      "Predicted:  889.000, Expected:  846.000\n",
      "Predicted:  846.000, Expected:  964.000\n",
      "Predicted:  964.000, Expected:  905.000\n",
      "Predicted:  905.000, Expected:  818.000\n",
      "Predicted:  818.000, Expected:  846.000\n",
      "Predicted:  846.000, Expected:  880.000\n",
      "Predicted:  880.000, Expected:  1087.000\n",
      "Predicted:  1087.000, Expected:  891.000\n",
      "Predicted:  891.000, Expected:  723.000\n",
      "Predicted:  723.000, Expected:  784.000\n",
      "Predicted:  784.000, Expected:  739.000\n",
      "Predicted:  739.000, Expected:  831.000\n",
      "Predicted:  831.000, Expected:  784.000\n",
      "Predicted:  784.000, Expected:  892.000\n",
      "Predicted:  892.000, Expected:  862.000\n",
      "Predicted:  862.000, Expected:  850.000\n",
      "Predicted:  850.000, Expected:  804.000\n",
      "Predicted:  804.000, Expected:  782.000\n",
      "Predicted:  782.000, Expected:  1013.000\n",
      "Predicted:  1013.000, Expected:  937.000\n",
      "Predicted:  937.000, Expected:  876.000\n",
      "Predicted:  876.000, Expected:  760.000\n",
      "Predicted:  760.000, Expected:  788.000\n",
      "Predicted:  788.000, Expected:  822.000\n",
      "Predicted:  822.000, Expected:  763.000\n",
      "Predicted:  763.000, Expected:  877.000\n",
      "Predicted:  877.000, Expected:  767.000\n",
      "Predicted:  767.000, Expected:  580.000\n",
      "Predicted:  580.000, Expected:  813.000\n",
      "Predicted:  813.000, Expected:  835.000\n",
      "Predicted:  835.000, Expected:  960.000\n",
      "Predicted:  960.000, Expected:  908.000\n",
      "Predicted:  908.000, Expected:  665.000\n",
      "Predicted:  665.000, Expected:  721.000\n",
      "Predicted:  721.000, Expected:  645.000\n",
      "Predicted:  645.000, Expected:  710.000\n",
      "Predicted:  710.000, Expected:  766.000\n",
      "Predicted:  766.000, Expected:  761.000\n",
      "Predicted:  761.000, Expected:  729.000\n",
      "Predicted:  729.000, Expected:  659.000\n",
      "Predicted:  659.000, Expected:  672.000\n",
      "Predicted:  672.000, Expected:  776.000\n",
      "Predicted:  776.000, Expected:  813.000\n",
      "RMSE:  110.900\n"
     ]
    }
   ],
   "source": [
    "#use walk forward validation to create baseline prediction forecast using the persistence model\n",
    "#create foreacst history\n",
    "historic_obs = [x for x in train_set]\n",
    "#create baseline predictions\n",
    "predictions = []\n",
    "for i in range(len(test_set)):\n",
    "    #make prediction at t using observation at t-1\n",
    "    y_hat = historic_obs[-1]\n",
    "    predictions.append(y_hat)\n",
    "    #actual t observation from test set\n",
    "    observation = test_set[i]\n",
    "    #update historic observations with actual t observation\n",
    "    historic_obs.append(observation)\n",
    "    print(f'Predicted: {y_hat: .3f}, Expected: {observation: .3f}')\n",
    "#report the performance of the forecast using RMSE\n",
    "rmse = sqrt(mse(test_set, predictions))\n",
    "print(f'RMSE: {rmse: .3f}')"
   ]
  },
  {
   "cell_type": "code",
   "execution_count": 167,
   "metadata": {
    "colab": {
     "base_uri": "https://localhost:8080/",
     "height": 168
    },
    "colab_type": "code",
    "id": "Bv_78EUNVgBS",
    "outputId": "7e2fb726-0503-447c-a54f-99f2c1bf01d1"
   },
   "outputs": [
    {
     "name": "stdout",
     "output_type": "stream",
     "text": [
      "count     114.000000\n",
      "mean      803.815789\n",
      "std       114.725495\n",
      "min       464.000000\n",
      "25%       723.750000\n",
      "50%       813.000000\n",
      "75%       876.750000\n",
      "max      1087.000000\n",
      "Name: 982.0, dtype: float64\n"
     ]
    }
   ],
   "source": [
    "# show summary statistics of data_set time series\n",
    "print(data_set.describe())"
   ]
  },
  {
   "cell_type": "code",
   "execution_count": 168,
   "metadata": {
    "colab": {
     "base_uri": "https://localhost:8080/",
     "height": 279
    },
    "colab_type": "code",
    "id": "ymV1hpMuVgBX",
    "outputId": "2c6610d9-b5be-4367-d76e-781bc17c47b9",
    "scrolled": false
   },
   "outputs": [
    {
     "data": {
      "image/png": "[encoded data removed]",
      "text/plain": [
       "<Figure size 720x432 with 1 Axes>"
      ]
     },
     "metadata": {
      "needs_background": "light"
     },
     "output_type": "display_data"
    }
   ],
   "source": [
    "#plot the data\n",
    "plt.figure(figsize=(10,6))\n",
    "sns.lineplot(data=data_set)\n",
    "plt.title('Monthly armed robberies in Houston, TX')\n",
    "plt.xlabel('Year')\n",
    "plt.ylabel('Armed Robberies')\n",
    "plt.show()"
   ]
  },
  {
   "cell_type": "markdown",
   "metadata": {
    "colab_type": "text",
    "id": "SPYjbx1kVgBa"
   },
   "source": [
    "### Line plot observations\n",
    "- The trend for robberies seem to be relatively flat\n",
    "- There is high variability among data points, which corresponds to the wide spread between the quartile ranges observed above\n",
    "- The variance between data points seem to be much higher during the initial years between 2009 and 2012, but appears stabilized past 2012.\n",
    "- The data set is non-stationary, since the data points appears to have changing mean and variance over time for each year. We can plot the mean and variance of the data by year to confirm this. We need a boxplot to better visualize the changes in interquartile range, variance and range."
   ]
  },
  {
   "cell_type": "code",
   "execution_count": 169,
   "metadata": {
    "scrolled": false
   },
   "outputs": [
    {
     "data": {
      "text/plain": [
       "Text(0, 0.5, 'Variance of armed robberies')"
      ]
     },
     "execution_count": 169,
     "metadata": {},
     "output_type": "execute_result"
    },
    {
     "data": {
      "image/png": "[encoded data removed]",
      "text/plain": [
       "<Figure size 360x216 with 1 Axes>"
      ]
     },
     "metadata": {
      "needs_background": "light"
     },
     "output_type": "display_data"
    },
    {
     "data": {
      "image/png": "[encoded data removed]",
      "text/plain": [
       "<Figure size 360x216 with 1 Axes>"
      ]
     },
     "metadata": {
      "needs_background": "light"
     },
     "output_type": "display_data"
    }
   ],
   "source": [
    "#group data by year for mean, variance and box plot analysis\n",
    "#2009 only has 6 months of data. We exclude them in the boxplot\n",
    "grps = data_set['2010':'2018'].groupby(pd.Grouper(freq='A'))\n",
    "yrs = pd.DataFrame({name.year: grp.values for name, grp in grps})\n",
    "plt.figure(figsize=(5,3))\n",
    "plt.figure(1)\n",
    "plt.subplot(211)\n",
    "sns.lineplot(data=yrs.mean())\n",
    "plt.title('Mean armed robberies in Houston, TX')\n",
    "plt.xlabel('Year')\n",
    "plt.ylabel('Mean armed robberies')\n",
    "plt.figure(figsize=(5,3))\n",
    "plt.figure(2)\n",
    "plt.subplot(212)\n",
    "sns.lineplot(data=yrs.var())\n",
    "plt.title('Variance of armed robberies in Houston, TX')\n",
    "plt.xlabel('Year')\n",
    "plt.ylabel('Variance of armed robberies')\n"
   ]
  },
  {
   "cell_type": "markdown",
   "metadata": {},
   "source": [
    "### Observations\n",
    "- Both the mean and variance are changing significantly over time. We need to make the data stationary via differencing before doing a forecast"
   ]
  },
  {
   "cell_type": "code",
   "execution_count": 170,
   "metadata": {},
   "outputs": [
    {
     "data": {
      "image/png": "[encoded data removed]",
      "text/plain": [
       "<Figure size 720x432 with 1 Axes>"
      ]
     },
     "metadata": {
      "needs_background": "light"
     },
     "output_type": "display_data"
    }
   ],
   "source": [
    "plt.figure(figsize=(10,6))\n",
    "sns.boxplot(data=yrs)\n",
    "plt.xlabel('Year')\n",
    "plt.ylabel('Armed Robberies')\n",
    "plt.show()"
   ]
  },
  {
   "cell_type": "markdown",
   "metadata": {},
   "source": [
    "### Box plot observations\n",
    "- The variance changes over time, but does not appear to do so consistently.\n",
    "- The median values do not exhibit a linear trend."
   ]
  },
  {
   "cell_type": "code",
   "execution_count": 171,
   "metadata": {
    "colab": {
     "base_uri": "https://localhost:8080/",
     "height": 265
    },
    "colab_type": "code",
    "id": "pcdZmBf-VgBb",
    "outputId": "a5452810-ccd7-45f8-cd0e-d54ee2324d4b",
    "scrolled": true
   },
   "outputs": [
    {
     "data": {
      "image/png": "[encoded data removed]",
      "text/plain": [
       "<Figure size 360x216 with 2 Axes>"
      ]
     },
     "metadata": {
      "needs_background": "light"
     },
     "output_type": "display_data"
    }
   ],
   "source": [
    "#plot histogram and density plot\n",
    "plt.figure(figsize=(5,3))\n",
    "plt.figure(1)\n",
    "plt.subplot(211)\n",
    "sns.distplot(data_set, kde=False)\n",
    "plt.subplot(212)\n",
    "sns.kdeplot(data_set, shade=False)\n",
    "plt.tight_layout()\n",
    "plt.show()"
   ]
  },
  {
   "cell_type": "markdown",
   "metadata": {
    "colab_type": "text",
    "id": "3Z5zZtuVVgBg"
   },
   "source": [
    "### Histogram and Density plot observations\n",
    "- The data distribution is largely gaussian\n",
    "- Transformation functions should still be applied to data set before using it for forecasting\n"
   ]
  },
  {
   "cell_type": "code",
   "execution_count": 172,
   "metadata": {
    "colab": {
     "base_uri": "https://localhost:8080/",
     "height": 171
    },
    "colab_type": "code",
    "id": "VlzJsGwjVgBm",
    "outputId": "ad4aecfe-27b0-4231-db50-68033c7a9c9a",
    "scrolled": true
   },
   "outputs": [
    {
     "name": "stdout",
     "output_type": "stream",
     "text": [
      "ADF Statistic: -1.768\n",
      "p-value:  0.397\n",
      "Critical Values:\n",
      "\t1%: -3.498\n",
      "\t5%: -2.891\n",
      "\t10%: -2.582\n"
     ]
    }
   ],
   "source": [
    "#Implement an ARIMA model to forecast the number of robberies over time\n",
    "#first check for stationarity of the data set using the augmented Dickey-Fuller test\n",
    "from statsmodels.tsa.stattools import adfuller\n",
    "\n",
    "def check_stationary(data):\n",
    "    '''function to check data stationarity using adfuller from statsmodel'''\n",
    "    result = adfuller(data)\n",
    "    print(f'ADF Statistic: {result[0]: .3f}')\n",
    "    print(f'p-value: {result[1]: .3f}')\n",
    "    print(f'Critical Values:')\n",
    "    for key, value in result[4].items():\n",
    "        print('\\t%s: %.3f' % (key, value))\n",
    "\n",
    "\n",
    "#check if stationary using Dickey-Fuller\n",
    "check_stationary(data_set.values)"
   ]
  },
  {
   "cell_type": "markdown",
   "metadata": {
    "colab_type": "text",
    "id": "IDZ8apl7VgBp"
   },
   "source": [
    "### Dickey-Fuller Test observation:\n",
    "- The test statistic value is -1.768 , which is larger than the critical value of -2.891. This indicates that we cannot reject the null hypothesis, which claims that the data is non-stationary, with a significance level of less than 5%. Try employing first order differencing."
   ]
  },
  {
   "cell_type": "code",
   "execution_count": 173,
   "metadata": {
    "colab": {
     "base_uri": "https://localhost:8080/",
     "height": 118
    },
    "colab_type": "code",
    "id": "b0qeakyHVgBp",
    "outputId": "8d8e4e14-21f4-4abf-ef0f-cc3617591980"
   },
   "outputs": [
    {
     "name": "stdout",
     "output_type": "stream",
     "text": [
      "ADF Statistic: -3.369\n",
      "p-value:  0.012\n",
      "Critical Values:\n",
      "\t1%: -3.498\n",
      "\t5%: -2.891\n",
      "\t10%: -2.582\n"
     ]
    }
   ],
   "source": [
    "#Employ first order differencing\n",
    "def differencing(data):\n",
    "    '''Function executes differencing of order 1 when called'''\n",
    "    differenced = [(data[i] - data[i-1]) for i in range(1, len(data))]\n",
    "    return differenced\n",
    "\n",
    "#executing differencing of order 1\n",
    "stationary_X = differencing(X)\n",
    "\n",
    "#check if the data is stationary now\n",
    "check_stationary(stationary_X)"
   ]
  },
  {
   "cell_type": "markdown",
   "metadata": {
    "colab_type": "text",
    "id": "KVhgbaVMVgBs"
   },
   "source": [
    "- The test statistic value is -3.369, which is smaller than the critical value of -2.891. This indicates that we can reject the null hypothesis, which claims that the data is non-stationary, with a significance level of less than 5%.\n",
    "- Differencing by order of 1 seems to have made the data set stationary."
   ]
  },
  {
   "cell_type": "code",
   "execution_count": 174,
   "metadata": {
    "colab": {
     "base_uri": "https://localhost:8080/",
     "height": 297
    },
    "colab_type": "code",
    "id": "HBYlsOFYVgBs",
    "outputId": "031feb23-2300-4bf8-d4ef-a864cfb051c7"
   },
   "outputs": [
    {
     "data": {
      "image/png": "[encoded data removed]",
      "text/plain": [
       "<Figure size 432x288 with 2 Axes>"
      ]
     },
     "metadata": {
      "needs_background": "light"
     },
     "output_type": "display_data"
    }
   ],
   "source": [
    "#create ACF and PACF plots to check for autocorrelation\n",
    "from statsmodels.graphics.tsaplots import plot_acf\n",
    "from statsmodels.graphics.tsaplots import plot_pacf\n",
    "plt.figure()\n",
    "plt.subplot(211)\n",
    "plot_acf(X, lags=50, ax=plt.gca())\n",
    "plt.subplot(212)\n",
    "plot_pacf(X, lags=50, ax=plt.gca())\n",
    "\n",
    "#fix any plot overlap with tight layout\n",
    "plt.tight_layout()\n",
    "plt.show()"
   ]
  },
  {
   "cell_type": "markdown",
   "metadata": {
    "colab_type": "text",
    "id": "hnmI4NIRVgBv",
    "scrolled": true
   },
   "source": [
    "### ACF and PACF plot observations\n",
    "\n",
    "- The ACF plot shows that lags are significant for the first 2 months.\n",
    "- The PACF plot shows that lags are significant for likely just 2 months.\n",
    "- The PACF plot suggests that perhaps the autocorrelations at lag 3 and thereafter are due to the propagation of the autocorrelations at lags 1 and 2.\n",
    "- The plot suggest an ARMA(2,2) may be used for modelling.\n",
    "- Since differencing order of the data is 1, an ARIMA(2,1,2) should be a good starting point for modelling the data."
   ]
  },
  {
   "cell_type": "code",
   "execution_count": 175,
   "metadata": {
    "colab": {
     "base_uri": "https://localhost:8080/",
     "height": 924
    },
    "colab_type": "code",
    "id": "FulBAQA_VgBw",
    "outputId": "e9dc1e76-7bab-42ef-d045-6e177920964d",
    "scrolled": true
   },
   "outputs": [
    {
     "name": "stdout",
     "output_type": "stream",
     "text": [
      ">Predicted=784.138, Expected=679.000\n",
      ">Predicted=722.341, Expected=817.000\n",
      ">Predicted=810.329, Expected=642.000\n",
      ">Predicted=623.580, Expected=885.000\n",
      ">Predicted=830.324, Expected=877.000\n",
      ">Predicted=841.249, Expected=912.000\n",
      ">Predicted=857.926, Expected=929.000\n",
      ">Predicted=867.818, Expected=894.000\n",
      ">Predicted=850.315, Expected=971.000\n",
      ">Predicted=924.422, Expected=838.000\n",
      ">Predicted=833.856, Expected=604.000\n",
      ">Predicted=706.299, Expected=748.000\n",
      ">Predicted=790.248, Expected=849.000\n",
      ">Predicted=823.096, Expected=889.000\n",
      ">Predicted=862.015, Expected=846.000\n",
      ">Predicted=836.403, Expected=964.000\n",
      ">Predicted=904.495, Expected=905.000\n",
      ">Predicted=869.110, Expected=818.000\n",
      ">Predicted=829.389, Expected=846.000\n",
      ">Predicted=851.826, Expected=880.000\n",
      ">Predicted=866.145, Expected=1087.000\n",
      ">Predicted=982.177, Expected=891.000\n",
      ">Predicted=878.178, Expected=723.000\n",
      ">Predicted=795.237, Expected=784.000\n",
      ">Predicted=840.563, Expected=739.000\n",
      ">Predicted=820.556, Expected=831.000\n",
      ">Predicted=862.620, Expected=784.000\n",
      ">Predicted=834.779, Expected=892.000\n",
      ">Predicted=878.023, Expected=862.000\n",
      ">Predicted=856.036, Expected=850.000\n",
      ">Predicted=838.945, Expected=804.000\n",
      ">Predicted=808.692, Expected=782.000\n",
      ">Predicted=790.001, Expected=1013.000\n",
      ">Predicted=890.202, Expected=937.000\n",
      ">Predicted=853.952, Expected=876.000\n",
      ">Predicted=819.549, Expected=760.000\n",
      ">Predicted=767.516, Expected=788.000\n",
      ">Predicted=786.922, Expected=822.000\n",
      ">Predicted=811.697, Expected=763.000\n",
      ">Predicted=789.773, Expected=877.000\n",
      ">Predicted=846.550, Expected=767.000\n",
      ">Predicted=801.848, Expected=580.000\n",
      ">Predicted=676.329, Expected=813.000\n",
      ">Predicted=816.395, Expected=835.000\n",
      ">Predicted=801.205, Expected=960.000\n",
      ">Predicted=879.648, Expected=908.000\n",
      ">Predicted=848.223, Expected=665.000\n",
      ">Predicted=733.661, Expected=721.000\n",
      ">Predicted=756.436, Expected=645.000\n",
      ">Predicted=701.904, Expected=710.000\n",
      ">Predicted=747.344, Expected=766.000\n",
      ">Predicted=765.103, Expected=761.000\n",
      ">Predicted=750.773, Expected=729.000\n",
      ">Predicted=723.803, Expected=659.000\n",
      ">Predicted=681.744, Expected=672.000\n",
      ">Predicted=677.964, Expected=776.000\n",
      ">Predicted=715.621, Expected=813.000\n",
      "RMSE:  100.546\n"
     ]
    }
   ],
   "source": [
    "#try an ARIMA model\n",
    "from statsmodels.tsa.arima_model import ARIMA\n",
    "arima212_hist = [x for x in train_set]\n",
    "arima212_pred = []\n",
    "for i in range(len(test_set)):\n",
    "    # predict\n",
    "    model = ARIMA(arima212_hist, order=(2,1,2))\n",
    "    model_fit = model.fit(disp=0)\n",
    "    arima212_y_hat = model_fit.forecast()[0]\n",
    "    arima212_pred.append(arima212_y_hat)\n",
    "    # observation\n",
    "    obs = test_set[i]\n",
    "    arima212_hist.append(obs)\n",
    "    print('>Predicted=%.3f, Expected=%.3f' % (arima212_y_hat, obs))\n",
    "# report performance\n",
    "rmse = sqrt(mse(test_set, arima212_pred))\n",
    "print(f'RMSE: {rmse: .3f}')"
   ]
  },
  {
   "cell_type": "markdown",
   "metadata": {},
   "source": [
    "### Observations\n",
    "- A RMSE of 100.54 is too high. Try using a grid search approach to figure out optimal ARIMA (p,d,q) parameters."
   ]
  },
  {
   "cell_type": "code",
   "execution_count": 176,
   "metadata": {
    "colab": {},
    "colab_type": "code",
    "id": "XYcxkdsSVgBz"
   },
   "outputs": [],
   "source": [
    "#Use Grid Search to find the optimal p,d,q hyperparameters\n",
    "def evaluate_arima_model(data, arima_order):\n",
    "    '''Function to evaluate data set X based on ARIMA order with some (p,d,q) and return RMSE'''\n",
    "    #prepare training data\n",
    "    data = data.astype('float32')\n",
    "    train_size = int(len(data) * 0.50)\n",
    "    train, test = data[0:train_size], data[train_size:]\n",
    "    history = [x for x in train]\n",
    "    # make predictions\n",
    "    predictions = list()\n",
    "    for t in range(len(test)):\n",
    "        model = ARIMA(history, order=arima_order)\n",
    "        model_fit = model.fit(disp=0)\n",
    "        yhat = model_fit.forecast()[0]\n",
    "        predictions.append(yhat)\n",
    "        history.append(test[t])\n",
    "    # calculate out of sample error\n",
    "    rmse = sqrt(mse(test, predictions))\n",
    "    return rmse\n",
    "\n",
    "def evaluate_models(data, p_val, d_val, q_val):\n",
    "    #convert data set to float to prevent numpy error\n",
    "    data = data.astype('float32')\n",
    "    best_rmse, best_config = float('inf'), None\n",
    "    #loop through all values of p,d,q to try every configuration order for ARIMA\n",
    "    for p in p_val:\n",
    "        for d in d_val:\n",
    "            for q in q_val:\n",
    "                order = (p,d,q)\n",
    "                try:\n",
    "                    rmse = evaluate_arima_model(data, order)\n",
    "                    if rmse < best_rmse:\n",
    "                        best_rmse, best_config = rmse, order\n",
    "                    print('ARIMA%s, RMSE = %.3f' % (order, rmse))\n",
    "                except:\n",
    "                    continue\n",
    "    print('Best ARIMA%s, RMSE = %.3f' % (best_config, best_rmse))"
   ]
  },
  {
   "cell_type": "code",
   "execution_count": 177,
   "metadata": {
    "colab": {
     "base_uri": "https://localhost:8080/",
     "height": 571
    },
    "colab_type": "code",
    "id": "SHp802c8VgB2",
    "outputId": "65fd5630-0a84-4e17-ad2b-0246a03cf29f",
    "scrolled": true
   },
   "outputs": [
    {
     "name": "stdout",
     "output_type": "stream",
     "text": [
      "ARIMA(0, 0, 0), RMSE = 104.016\n",
      "ARIMA(0, 0, 1), RMSE = 96.270\n",
      "ARIMA(0, 0, 2), RMSE = 95.171\n",
      "ARIMA(0, 0, 3), RMSE = 95.930\n",
      "ARIMA(0, 0, 4), RMSE = 97.438\n",
      "ARIMA(0, 1, 0), RMSE = 111.800\n",
      "ARIMA(0, 1, 1), RMSE = 105.127\n",
      "ARIMA(0, 1, 2), RMSE = 98.878\n",
      "ARIMA(0, 1, 3), RMSE = 99.751\n",
      "ARIMA(0, 1, 4), RMSE = 100.519\n",
      "ARIMA(0, 2, 0), RMSE = 174.879\n",
      "ARIMA(0, 2, 1), RMSE = 113.561\n",
      "ARIMA(0, 2, 2), RMSE = 109.213\n",
      "ARIMA(0, 2, 3), RMSE = 105.329\n",
      "ARIMA(0, 2, 4), RMSE = 104.616\n",
      "ARIMA(1, 0, 0), RMSE = 95.311\n",
      "ARIMA(1, 0, 1), RMSE = 96.340\n",
      "ARIMA(1, 0, 2), RMSE = 96.969\n",
      "ARIMA(1, 1, 0), RMSE = 109.817\n",
      "ARIMA(1, 1, 1), RMSE = 98.220\n",
      "ARIMA(1, 2, 0), RMSE = 151.042\n",
      "ARIMA(2, 0, 0), RMSE = 95.919\n",
      "ARIMA(2, 0, 1), RMSE = 95.983\n",
      "ARIMA(2, 0, 2), RMSE = 97.341\n",
      "ARIMA(2, 1, 0), RMSE = 108.938\n",
      "ARIMA(2, 1, 1), RMSE = 99.354\n",
      "ARIMA(2, 1, 2), RMSE = 100.546\n",
      "ARIMA(2, 2, 0), RMSE = 143.627\n",
      "ARIMA(3, 0, 0), RMSE = 97.959\n",
      "ARIMA(3, 0, 1), RMSE = 97.311\n",
      "ARIMA(3, 1, 0), RMSE = 106.069\n",
      "ARIMA(3, 1, 1), RMSE = 101.679\n",
      "ARIMA(3, 1, 2), RMSE = 100.549\n",
      "ARIMA(3, 2, 0), RMSE = 137.247\n",
      "ARIMA(4, 0, 0), RMSE = 98.220\n",
      "ARIMA(4, 0, 1), RMSE = 99.688\n",
      "ARIMA(4, 1, 0), RMSE = 103.265\n",
      "ARIMA(4, 1, 1), RMSE = 102.034\n",
      "ARIMA(4, 1, 2), RMSE = 101.868\n",
      "ARIMA(4, 2, 0), RMSE = 128.392\n",
      "ARIMA(4, 2, 1), RMSE = 106.932\n",
      "Best ARIMA(0, 0, 2), RMSE = 95.171\n"
     ]
    }
   ],
   "source": [
    "#evaluate data set with all possible hyperparameter configurations\n",
    "p_val = range(0,5)\n",
    "d_val = range(0,3)\n",
    "q_val = range(0,5)\n",
    "\n",
    "#turn off verbose warning messages\n",
    "import warnings\n",
    "warnings.filterwarnings(\"ignore\")\n",
    "evaluate_models(X, p_val, d_val, q_val)"
   ]
  },
  {
   "cell_type": "markdown",
   "metadata": {
    "colab_type": "text",
    "id": "7KibYhLA6NZt"
   },
   "source": [
    "### Grid Search Results\n",
    "- The best ARIMA model is an ARIMA(0,0,2) with an RMSE of 95.17"
   ]
  },
  {
   "cell_type": "code",
   "execution_count": 178,
   "metadata": {},
   "outputs": [
    {
     "name": "stdout",
     "output_type": "stream",
     "text": [
      ">Predicted=747.203, Expected=679.000\n",
      ">Predicted=751.702, Expected=817.000\n",
      ">Predicted=821.876, Expected=642.000\n",
      ">Predicted=698.042, Expected=885.000\n",
      ">Predicted=853.443, Expected=877.000\n",
      ">Predicted=842.803, Expected=912.000\n",
      ">Predicted=837.616, Expected=929.000\n",
      ">Predicted=863.488, Expected=894.000\n",
      ">Predicted=836.719, Expected=971.000\n",
      ">Predicted=884.244, Expected=838.000\n",
      ">Predicted=808.393, Expected=604.000\n",
      ">Predicted=675.381, Expected=748.000\n",
      ">Predicted=798.101, Expected=849.000\n",
      ">Predicted=840.765, Expected=889.000\n",
      ">Predicted=837.741, Expected=846.000\n",
      ">Predicted=815.961, Expected=964.000\n",
      ">Predicted=890.101, Expected=905.000\n",
      ">Predicted=844.051, Expected=818.000\n",
      ">Predicted=793.878, Expected=846.000\n",
      ">Predicted=830.756, Expected=880.000\n",
      ">Predicted=845.628, Expected=1087.000\n",
      ">Predicted=961.591, Expected=891.000\n",
      ">Predicted=824.693, Expected=723.000\n",
      ">Predicted=741.078, Expected=784.000\n",
      ">Predicted=815.936, Expected=739.000\n",
      ">Predicted=773.688, Expected=831.000\n",
      ">Predicted=826.874, Expected=784.000\n",
      ">Predicted=796.578, Expected=892.000\n",
      ">Predicted=854.504, Expected=862.000\n",
      ">Predicted=834.043, Expected=850.000\n",
      ">Predicted=821.655, Expected=804.000\n",
      ">Predicted=804.659, Expected=782.000\n",
      ">Predicted=794.743, Expected=1013.000\n",
      ">Predicted=928.979, Expected=937.000\n",
      ">Predicted=862.156, Expected=876.000\n",
      ">Predicted=824.057, Expected=760.000\n",
      ">Predicted=781.981, Expected=788.000\n",
      ">Predicted=804.486, Expected=822.000\n",
      ">Predicted=825.329, Expected=763.000\n",
      ">Predicted=783.054, Expected=877.000\n",
      ">Predicted=852.853, Expected=767.000\n",
      ">Predicted=787.775, Expected=580.000\n",
      ">Predicted=682.020, Expected=813.000\n",
      ">Predicted=843.628, Expected=835.000\n",
      ">Predicted=828.249, Expected=960.000\n",
      ">Predicted=878.944, Expected=908.000\n",
      ">Predicted=853.379, Expected=665.000\n",
      ">Predicted=719.545, Expected=721.000\n",
      ">Predicted=781.838, Expected=645.000\n",
      ">Predicted=741.906, Expected=710.000\n",
      ">Predicted=768.437, Expected=766.000\n",
      ">Predicted=801.954, Expected=761.000\n",
      ">Predicted=786.699, Expected=729.000\n",
      ">Predicted=770.018, Expected=659.000\n",
      ">Predicted=736.988, Expected=672.000\n",
      ">Predicted=749.471, Expected=776.000\n",
      ">Predicted=806.745, Expected=813.000\n",
      "RMSE:  95.171\n"
     ]
    }
   ],
   "source": [
    "#try the optimal ARIMA(0,0,2) model\n",
    "from statsmodels.tsa.arima_model import ARIMA\n",
    "arima002_hist = [x for x in train_set]\n",
    "arima002_pred = []\n",
    "for i in range(len(test_set)):\n",
    "    # predict\n",
    "    model = ARIMA(arima002_hist, order=(0,0,2))\n",
    "    model_fit = model.fit(disp=0)\n",
    "    arima002_y_hat = model_fit.forecast()[0]\n",
    "    arima002_pred.append(arima002_y_hat)\n",
    "    # observation\n",
    "    obs = test_set[i]\n",
    "    arima002_hist.append(obs)\n",
    "    print('>Predicted=%.3f, Expected=%.3f' % (arima002_y_hat, obs))\n",
    "# report performance\n",
    "rmse = sqrt(mse(test_set, arima002_pred))\n",
    "print(f'RMSE: {rmse: .3f}')"
   ]
  },
  {
   "cell_type": "code",
   "execution_count": 179,
   "metadata": {
    "colab": {
     "base_uri": "https://localhost:8080/",
     "height": 281
    },
    "colab_type": "code",
    "id": "qQs0s11v6boO",
    "outputId": "b46ef711-364a-496e-d54f-2a165ffb42fa"
   },
   "outputs": [
    {
     "data": {
      "image/png": "[encoded data removed]",
      "text/plain": [
       "<Figure size 432x288 with 2 Axes>"
      ]
     },
     "metadata": {
      "needs_background": "light"
     },
     "output_type": "display_data"
    }
   ],
   "source": [
    "#Check residual errors for other features\n",
    "#plot residual\n",
    "residuals = [test_set[i]-arima002_pred[i] for i in range(len(test_set))]\n",
    "residuals = pd.DataFrame(residuals)\n",
    "plt.figure()\n",
    "plt.subplot(211)\n",
    "residuals.hist(ax=plt.gca())\n",
    "plt.subplot(212)\n",
    "residuals.plot(kind='kde', ax=plt.gca())\n",
    "plt.show()"
   ]
  },
  {
   "cell_type": "markdown",
   "metadata": {
    "colab_type": "text",
    "id": "eISKm30d8epb"
   },
   "source": [
    "### Histogram and density plot observations\n",
    "- Both histogram and density plots for the residuals show a distribution that is Gaussian"
   ]
  },
  {
   "cell_type": "code",
   "execution_count": 180,
   "metadata": {
    "colab": {
     "base_uri": "https://localhost:8080/",
     "height": 297
    },
    "colab_type": "code",
    "id": "1nTqk94r8-El",
    "outputId": "48217137-7011-4436-ae93-39406e3db291"
   },
   "outputs": [
    {
     "data": {
      "image/png": "[encoded data removed]",
      "text/plain": [
       "<Figure size 432x288 with 2 Axes>"
      ]
     },
     "metadata": {
      "needs_background": "light"
     },
     "output_type": "display_data"
    }
   ],
   "source": [
    "#check ACF and PACF\n",
    "plt.figure()\n",
    "plt.subplot(211)\n",
    "plot_acf(residuals, lags=25, ax=plt.gca())\n",
    "plt.subplot(212)\n",
    "plot_pacf(residuals, lags=25, ax=plt.gca())\n",
    "plt.tight_layout()\n",
    "plt.show()"
   ]
  },
  {
   "cell_type": "markdown",
   "metadata": {
    "colab_type": "text",
    "id": "wSRwr7hh-A4f"
   },
   "source": [
    "### ACF and PACF observations\n",
    "- Any correlation and partial correlation seems to have been captured.\n",
    "- There maybe an anomaly at t-12."
   ]
  },
  {
   "cell_type": "code",
   "execution_count": 181,
   "metadata": {
    "colab": {
     "base_uri": "https://localhost:8080/",
     "height": 34
    },
    "colab_type": "code",
    "id": "UHXDvfKX-XUp",
    "outputId": "1bc28c81-1c1b-4d43-d2da-22f014d19882"
   },
   "outputs": [
    {
     "name": "stdout",
     "output_type": "stream",
     "text": [
      "Lambda:  1.059\n"
     ]
    }
   ],
   "source": [
    "#use Box-Cox transform to ensure that data set is completely Gaussian, and check to see if there is any non-Gaussian behavior\n",
    "from scipy.stats import boxcox\n",
    "from statsmodels.graphics.gofplots import qqplot\n",
    "#turn off verbose warning messages\n",
    "import warnings\n",
    "warnings.filterwarnings(\"ignore\")\n",
    "transformed, lamd = boxcox(X)\n",
    "print(f'Lambda: {lamd: .3f}')"
   ]
  },
  {
   "cell_type": "code",
   "execution_count": 182,
   "metadata": {
    "colab": {
     "base_uri": "https://localhost:8080/",
     "height": 297
    },
    "colab_type": "code",
    "id": "E99dTEnJ_PCG",
    "outputId": "283e12ef-1b9c-4ee8-c90e-444a19a47bde",
    "scrolled": true
   },
   "outputs": [
    {
     "data": {
      "image/png": "[encoded data removed]",
      "text/plain": [
       "<Figure size 432x288 with 3 Axes>"
      ]
     },
     "metadata": {
      "needs_background": "light"
     },
     "output_type": "display_data"
    }
   ],
   "source": [
    "#plot transformed data, histogram and q-q plots\n",
    "plt.figure()\n",
    "#plot transformed data\n",
    "plt.subplot(311)\n",
    "plt.plot(transformed)\n",
    "#plot histogram\n",
    "plt.subplot(312)\n",
    "plt.hist(transformed)\n",
    "#plot q-q plot\n",
    "plt.subplot(313)\n",
    "qqplot(transformed, line='r', ax=plt.gca())\n",
    "plt.tight_layout()\n",
    "plt.show()"
   ]
  },
  {
   "cell_type": "markdown",
   "metadata": {
    "colab_type": "text",
    "id": "wfUqgnRQAeBE"
   },
   "source": [
    "### Data transform results\n",
    "- Transforming the data has reduced the high variability of the data in the earlier years.\n",
    "- The transformed data has uniform and well-behaved distribution\n",
    "- The transformed data is close to being perfectly Gaussian"
   ]
  },
  {
   "cell_type": "code",
   "execution_count": 183,
   "metadata": {
    "colab": {},
    "colab_type": "code",
    "id": "-_E3tjQwA8os"
   },
   "outputs": [],
   "source": [
    "#create a function for inverse Box-Cox transform to revert transformed data back to original units\n",
    "from math import log\n",
    "from math import exp\n",
    "def boxcox_inverse(value, lamb):\n",
    "    if lamb == 0:\n",
    "        return exp(value)\n",
    "    return exp(log(lamb*value + 1)/lamb)"
   ]
  },
  {
   "cell_type": "code",
   "execution_count": 184,
   "metadata": {
    "scrolled": true
   },
   "outputs": [
    {
     "name": "stdout",
     "output_type": "stream",
     "text": [
      ">Predicted=745.133, Expected=679.000\n",
      ">Predicted=750.474, Expected=817.000\n",
      ">Predicted=820.958, Expected=642.000\n",
      ">Predicted=697.409, Expected=885.000\n",
      ">Predicted=851.094, Expected=877.000\n",
      ">Predicted=842.218, Expected=912.000\n",
      ">Predicted=837.030, Expected=929.000\n",
      ">Predicted=863.477, Expected=894.000\n",
      ">Predicted=837.073, Expected=971.000\n",
      ">Predicted=885.536, Expected=838.000\n",
      ">Predicted=808.753, Expected=604.000\n",
      ">Predicted=675.743, Expected=748.000\n",
      ">Predicted=798.616, Expected=849.000\n",
      ">Predicted=841.283, Expected=889.000\n",
      ">Predicted=839.093, Expected=846.000\n",
      ">Predicted=816.913, Expected=964.000\n",
      ">Predicted=893.105, Expected=905.000\n",
      ">Predicted=845.668, Expected=818.000\n",
      ">Predicted=794.680, Expected=846.000\n",
      ">Predicted=833.317, Expected=880.000\n",
      ">Predicted=848.175, Expected=1087.000\n",
      ">Predicted=966.019, Expected=891.000\n",
      ">Predicted=824.997, Expected=723.000\n",
      ">Predicted=741.392, Expected=784.000\n",
      ">Predicted=817.451, Expected=739.000\n",
      ">Predicted=774.137, Expected=831.000\n",
      ">Predicted=828.010, Expected=784.000\n",
      ">Predicted=797.183, Expected=892.000\n",
      ">Predicted=856.045, Expected=862.000\n",
      ">Predicted=835.123, Expected=850.000\n",
      ">Predicted=822.975, Expected=804.000\n",
      ">Predicted=805.845, Expected=782.000\n",
      ">Predicted=795.852, Expected=1013.000\n",
      ">Predicted=931.979, Expected=937.000\n",
      ">Predicted=863.394, Expected=876.000\n",
      ">Predicted=825.385, Expected=760.000\n",
      ">Predicted=783.424, Expected=788.000\n",
      ">Predicted=805.814, Expected=822.000\n",
      ">Predicted=826.639, Expected=763.000\n",
      ">Predicted=784.106, Expected=877.000\n",
      ">Predicted=854.638, Expected=767.000\n",
      ">Predicted=788.692, Expected=580.000\n",
      ">Predicted=685.540, Expected=813.000\n",
      ">Predicted=844.528, Expected=835.000\n",
      ">Predicted=829.377, Expected=960.000\n",
      ">Predicted=882.915, Expected=908.000\n",
      ">Predicted=855.434, Expected=665.000\n",
      ">Predicted=720.372, Expected=721.000\n",
      ">Predicted=783.874, Expected=645.000\n",
      ">Predicted=743.937, Expected=710.000\n",
      ">Predicted=769.737, Expected=766.000\n",
      ">Predicted=802.837, Expected=761.000\n",
      ">Predicted=787.514, Expected=729.000\n",
      ">Predicted=770.735, Expected=659.000\n",
      ">Predicted=737.740, Expected=672.000\n",
      ">Predicted=749.923, Expected=776.000\n",
      ">Predicted=806.995, Expected=813.000\n",
      "RMSE:  95.158\n"
     ]
    }
   ],
   "source": [
    "#reevaluate ARIMA(0,0,2) with the box-cox transformed time series\n",
    "hist_t = [x for x in train_set]\n",
    "pred_t = []\n",
    "#predict using transformed data\n",
    "for i in range(len(test_set)):\n",
    "    #transform\n",
    "    tf, lam = boxcox(hist_t)\n",
    "    #don't do transform if lambda is less than 5\n",
    "    if lam < -5:\n",
    "        tf, lam = hist_t, 1\n",
    "    model = ARIMA(tf, order=(0,0,2))\n",
    "    model_fit = model.fit(disp=0)\n",
    "    y_hat_t = model_fit.forecast()[0]\n",
    "    #invert transformed prediction\n",
    "    y_hat_t = boxcox_inverse(y_hat_t, lam)\n",
    "    pred_t.append(y_hat_t)\n",
    "    #observation\n",
    "    obs_t = test_set[i]\n",
    "    hist_t.append(obs_t)\n",
    "    print('>Predicted=%.3f, Expected=%.3f' % (y_hat_t, obs_t))\n",
    "# report performance\n",
    "rmse = sqrt(mse(test_set, pred_t))\n",
    "print(f'RMSE: {rmse: .3f}')\n",
    "##finalize model and save \n",
    "# monkey patch around bug in ARIMA class\n",
    "# def __getnewargs__(self):\n",
    "#     return ((self.endog),(self.k_lags, self.k_diff, self.k_ma))\n",
    "# ARIMA.__getnewargs__ = __getnewargs__\n",
    "model_fit.save('model_arima002.pkl')\n",
    "np.save('model_lambda.npy',[lam])"
   ]
  },
  {
   "cell_type": "markdown",
   "metadata": {},
   "source": [
    "### Observations\n",
    "- Running the ARIMA(0,0,2) model on the transformed data set gave only a slightly loewr RMSE of 95.16."
   ]
  },
  {
   "cell_type": "code",
   "execution_count": 185,
   "metadata": {},
   "outputs": [],
   "source": [
    "# finalize model and save to file with workaround\n",
    "# transform data, use entire data set X now to train the model\n",
    "import numpy\n",
    "from statsmodels.tsa.arima_model import ARIMAResults\n",
    "transformed, lam = boxcox(X)\n",
    "# fit model\n",
    "model = ARIMA(transformed, order=(3,0,2))\n",
    "model_fit = model.fit(disp=0)\n",
    "# save model\n",
    "model_fit.save('model_arima002.pkl')\n",
    "numpy.save('model_lambda.npy', [lam])"
   ]
  },
  {
   "cell_type": "code",
   "execution_count": 187,
   "metadata": {},
   "outputs": [
    {
     "name": "stdout",
     "output_type": "stream",
     "text": [
      "Predicted: 817.509\n",
      "Actual value in CV set: 764.000\n",
      "RMSE is  53.509\n"
     ]
    }
   ],
   "source": [
    "# # load the finalized model and make a prediction\n",
    "model_fit = ARIMAResults.load('model_arima002.pkl')\n",
    "lam = np.load('model_lambda.npy')\n",
    "yhat = model_fit.forecast()[0]\n",
    "yhat = boxcox_inverse(yhat, lam)\n",
    "print(f'Predicted:{yhat: .3f}')\n",
    "print(f'Actual value in CV set:{cv_set[0]: .3f}')\n",
    "print(f'RMSE is {sqrt((cv_set[0]-yhat)**2): .3f}')"
   ]
  },
  {
   "cell_type": "markdown",
   "metadata": {},
   "source": [
    "- Predicted value could be better. Compared to the target value in the cross validation set, the predicted value has an RMSE of 53.51"
   ]
  },
  {
   "cell_type": "code",
   "execution_count": 190,
   "metadata": {},
   "outputs": [
    {
     "name": "stdout",
     "output_type": "stream",
     "text": [
      ">Predicted=813.829, Expected=764.000\n",
      ">Predicted=779.744, Expected=564.000\n",
      ">Predicted=677.231, Expected=660.000\n",
      ">Predicted=751.040, Expected=727.000\n",
      ">Predicted=785.319, Expected=864.000\n",
      ">Predicted=839.911, Expected=754.000\n",
      ">Predicted=771.293, Expected=837.000\n",
      ">Predicted=818.687, Expected=822.000\n",
      ">Predicted=817.345, Expected=713.000\n",
      ">Predicted=746.221, Expected=732.000\n",
      ">Predicted=772.035, Expected=863.000\n",
      ">Predicted=846.697, Expected=900.000\n",
      ">Predicted=848.480, Expected=910.000\n",
      ">Predicted=847.172, Expected=721.000\n",
      ">Predicted=746.700, Expected=681.000\n",
      ">Predicted=740.577, Expected=456.000\n",
      "RMSE:  110.401\n"
     ]
    },
    {
     "data": {
      "image/png": "[encoded data removed]",
      "text/plain": [
       "<Figure size 432x288 with 1 Axes>"
      ]
     },
     "metadata": {
      "needs_background": "light"
     },
     "output_type": "display_data"
    }
   ],
   "source": [
    "#use cross validation set to test how well the model can make predictions on out-of-sample data\n",
    "#load CV set as target outputs\n",
    "y = cv_set.values.astype('float32')\n",
    "#load model and boxcox lambda\n",
    "model_fit = ARIMAResults.load('model_arima002.pkl')\n",
    "lamb = np.load('model_lambda.npy')\n",
    "#create expanding window forecast, with all subsequent target outputs added to history\n",
    "hist = [x for x in X]\n",
    "pred = []\n",
    "#make predictions\n",
    "for i in range(len(y)):\n",
    "    tf, lam = boxcox(hist)\n",
    "    if lam < -5:\n",
    "        tf, lam = hist, 1\n",
    "    model = ARIMA(tf, order=(0,0,2))\n",
    "    model_fit = model.fit(disp=False)\n",
    "    yhat = model_fit.forecast()[0]\n",
    "    #inverse transformed prediction\n",
    "    yhat = boxcox_inverse(yhat, lam)\n",
    "    pred.append(yhat)\n",
    "    obs = y[i]\n",
    "    hist.append(obs)\n",
    "    print('>Predicted=%.3f, Expected=%.3f' % (yhat, obs))\n",
    "#report performance\n",
    "rmse = sqrt(mse(y, pred))\n",
    "print(f'RMSE: {rmse: .3f}')\n",
    "#plot predictions with actuals\n",
    "plt.plot(y)\n",
    "plt.plot(pred, color='r')\n",
    "plt.show()"
   ]
  },
  {
   "cell_type": "code",
   "execution_count": 191,
   "metadata": {
    "scrolled": false
   },
   "outputs": [
    {
     "name": "stdout",
     "output_type": "stream",
     "text": [
      ">Predicted=813.829, Expected=764.000\n",
      ">Predicted=779.702, Expected=564.000\n",
      ">Predicted=685.291, Expected=660.000\n",
      ">Predicted=751.746, Expected=727.000\n",
      ">Predicted=778.691, Expected=864.000\n",
      ">Predicted=834.331, Expected=754.000\n",
      ">Predicted=772.007, Expected=837.000\n",
      ">Predicted=809.942, Expected=822.000\n",
      ">Predicted=809.364, Expected=713.000\n",
      ">Predicted=745.948, Expected=732.000\n",
      ">Predicted=769.639, Expected=863.000\n",
      ">Predicted=836.408, Expected=900.000\n",
      ">Predicted=839.933, Expected=910.000\n",
      ">Predicted=840.294, Expected=721.000\n",
      ">Predicted=743.619, Expected=681.000\n",
      ">Predicted=741.403, Expected=456.000\n",
      "RMSE:  110.431\n"
     ]
    },
    {
     "data": {
      "image/png": "[encoded data removed]",
      "text/plain": [
       "<Figure size 432x288 with 1 Axes>"
      ]
     },
     "metadata": {
      "needs_background": "light"
     },
     "output_type": "display_data"
    }
   ],
   "source": [
    "#try rolling window forecast, with all subsequent target outputs added to history\n",
    "hist = [x for x in X]\n",
    "pred = []\n",
    "#make predictions\n",
    "for i in range(len(y)):\n",
    "    tf, lam = boxcox(hist[i:])\n",
    "    if lam < -5:\n",
    "        tf, lam = hist[i:], 1\n",
    "    model = ARIMA(tf, order=(0,0,2))\n",
    "    model_fit = model.fit(disp=False)\n",
    "    yhat = model_fit.forecast()[0]\n",
    "    #inverse transformed prediction\n",
    "    yhat = boxcox_inverse(yhat, lam)\n",
    "    pred.append(yhat)\n",
    "    obs = y[i]\n",
    "    hist.append(obs)\n",
    "    print('>Predicted=%.3f, Expected=%.3f' % (yhat, obs))\n",
    "#report performance\n",
    "rmse = sqrt(mse(y, pred))\n",
    "print(f'RMSE: {rmse: .3f}')\n",
    "#plot predictions with actuals\n",
    "plt.plot(y)\n",
    "plt.plot(pred, color='g')\n",
    "plt.show()"
   ]
  },
  {
   "cell_type": "markdown",
   "metadata": {},
   "source": [
    "### Prediction results:\n",
    "- Differences between expanding window and rolling window forecasts are minimal, with an RMSE difference of around 0.03.\n",
    "- Perhaps ARIMA model should be fine tuned, with (p,d,q) reselected to fit the transformed data set "
   ]
  },
  {
   "cell_type": "code",
   "execution_count": 192,
   "metadata": {},
   "outputs": [
    {
     "name": "stdout",
     "output_type": "stream",
     "text": [
      "ARIMA(0, 0, 0), RMSE = 154.836\n",
      "ARIMA(0, 0, 1), RMSE = 143.281\n",
      "ARIMA(0, 0, 2), RMSE = 141.646\n",
      "ARIMA(0, 0, 3), RMSE = 142.785\n",
      "ARIMA(0, 0, 4), RMSE = 145.057\n",
      "ARIMA(0, 1, 0), RMSE = 166.363\n",
      "ARIMA(0, 1, 1), RMSE = 156.531\n",
      "ARIMA(0, 1, 2), RMSE = 147.200\n",
      "ARIMA(0, 1, 3), RMSE = 148.531\n",
      "ARIMA(0, 1, 4), RMSE = 149.695\n",
      "ARIMA(0, 2, 0), RMSE = 260.104\n",
      "ARIMA(0, 2, 1), RMSE = 168.987\n",
      "ARIMA(0, 2, 2), RMSE = 162.635\n",
      "ARIMA(0, 2, 3), RMSE = 155.539\n",
      "ARIMA(0, 2, 4), RMSE = 155.766\n",
      "ARIMA(1, 0, 0), RMSE = 141.875\n",
      "ARIMA(1, 0, 1), RMSE = 143.415\n",
      "ARIMA(1, 0, 2), RMSE = 144.357\n",
      "ARIMA(1, 1, 0), RMSE = 163.460\n",
      "ARIMA(1, 1, 1), RMSE = 146.227\n",
      "ARIMA(1, 2, 0), RMSE = 224.815\n",
      "ARIMA(2, 0, 0), RMSE = 142.779\n",
      "ARIMA(2, 0, 1), RMSE = 142.888\n",
      "ARIMA(2, 0, 2), RMSE = 144.928\n",
      "ARIMA(2, 1, 0), RMSE = 162.163\n",
      "ARIMA(2, 1, 1), RMSE = 147.928\n",
      "ARIMA(2, 1, 2), RMSE = 149.724\n",
      "ARIMA(2, 2, 0), RMSE = 213.836\n",
      "ARIMA(3, 0, 0), RMSE = 145.857\n",
      "ARIMA(3, 0, 1), RMSE = 144.887\n",
      "ARIMA(3, 1, 0), RMSE = 157.890\n",
      "ARIMA(3, 1, 1), RMSE = 151.413\n",
      "ARIMA(3, 1, 2), RMSE = 149.524\n",
      "ARIMA(3, 2, 0), RMSE = 204.309\n",
      "ARIMA(4, 0, 0), RMSE = 146.245\n",
      "ARIMA(4, 0, 1), RMSE = 147.549\n",
      "ARIMA(4, 1, 0), RMSE = 153.740\n",
      "ARIMA(4, 1, 1), RMSE = 153.100\n",
      "ARIMA(4, 2, 0), RMSE = 191.114\n",
      "ARIMA(4, 2, 1), RMSE = 159.255\n",
      "Best ARIMA(0, 0, 2), RMSE = 141.646\n"
     ]
    }
   ],
   "source": [
    "#evaluate transformed data set with all possible hyperparameter configurations\n",
    "p_val = range(0,5)\n",
    "d_val = range(0,3)\n",
    "q_val = range(0,5)\n",
    "\n",
    "#turn off verbose warning messages\n",
    "import warnings\n",
    "warnings.filterwarnings(\"ignore\")\n",
    "evaluate_models(transformed, p_val, d_val, q_val)"
   ]
  },
  {
   "cell_type": "markdown",
   "metadata": {},
   "source": [
    "### Observations\n",
    "\n",
    "- Even with the transformed training set, the optimal ARIMA model is still ARIMA(0,0,2)\n",
    "- ARIMA may not be sufficient to effectively model the time series\n",
    "- Try more sophisticated methods, such as an LSTM RNN model"
   ]
  }
 ],
 "metadata": {
  "colab": {
   "include_colab_link": true,
   "name": "Copy of HTX_Armed_Robberies.ipynb",
   "provenance": []
  },
  "kernelspec": {
   "display_name": "Python 3",
   "language": "python",
   "name": "python3"
  },
  "language_info": {
   "codemirror_mode": {
    "name": "ipython",
    "version": 3
   },
   "file_extension": ".py",
   "mimetype": "text/x-python",
   "name": "python",
   "nbconvert_exporter": "python",
   "pygments_lexer": "ipython3",
   "version": "3.7.4"
  }
 },
 "nbformat": 4,
 "nbformat_minor": 1
}
